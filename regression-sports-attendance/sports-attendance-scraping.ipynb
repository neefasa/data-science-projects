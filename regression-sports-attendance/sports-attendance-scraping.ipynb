{
 "cells": [
  {
   "cell_type": "markdown",
   "metadata": {},
   "source": [
    "## imports"
   ]
  },
  {
   "cell_type": "code",
   "execution_count": 2,
   "metadata": {},
   "outputs": [],
   "source": [
    "from bs4 import BeautifulSoup\n",
    "import requests\n",
    "import pandas as pd\n",
    "import time, os\n",
    "from selenium import webdriver\n",
    "from selenium.webdriver.common.keys import Keys\n",
    "import folium\n",
    "import geopy.geocoders\n",
    "from geopy.geocoders import Nominatim\n",
    "import geopy.distance\n",
    "import codecs\n",
    "import numpy as np\n",
    "\n",
    "chromedriver = \"/Applications/chromedriver\" # path to the chromedriver executable\n",
    "os.environ[\"webdriver.chrome.driver\"] = chromedriver"
   ]
  },
  {
   "cell_type": "markdown",
   "metadata": {},
   "source": [
    "Overview: Find the average attendance for all major league teams in North America. Then model to attendance and find what features influence a teams attendance.\n",
    "\n",
    "I scraped stats about teams for the five major league sports(MLB, NBA, NFL, NHL, and MLS). I used wikipedia and espn.com."
   ]
  },
  {
   "cell_type": "markdown",
   "metadata": {},
   "source": [
    "# MLB - Major League Baseball"
   ]
  },
  {
   "cell_type": "code",
   "execution_count": 3,
   "metadata": {},
   "outputs": [],
   "source": [
    "MLB = pd.read_html('https://en.wikipedia.org/wiki/Major_League_Baseball')[2]"
   ]
  },
  {
   "cell_type": "code",
   "execution_count": 4,
   "metadata": {},
   "outputs": [],
   "source": [
    "#Drop National League in the middle of table\n",
    "MLB = MLB.drop([15],axis=0)"
   ]
  },
  {
   "cell_type": "code",
   "execution_count": null,
   "metadata": {},
   "outputs": [],
   "source": [
    "#Alphabatize by team name\n",
    "MLB = MLB.sort_values('Team').reset_index().drop('index',axis=1)"
   ]
  },
  {
   "cell_type": "code",
   "execution_count": 301,
   "metadata": {},
   "outputs": [],
   "source": [
    "#Drop the Amercan League index in the column\n",
    "def fix_wiki_columns(league_df):\n",
    "    '''\n",
    "    This removes the confernce that gets stuck in the table from\n",
    "    a Wikipedia tables.\n",
    "    '''\n",
    "    if len(league_df.columns[0]) == 2:\n",
    "        new_col = []\n",
    "        for col in league_df.columns:\n",
    "            new_col.append(col[0])\n",
    "        league_df.columns = new_col\n",
    "        return \n",
    "    else:\n",
    "        return "
   ]
  },
  {
   "cell_type": "code",
   "execution_count": null,
   "metadata": {},
   "outputs": [],
   "source": [
    "fix_wiki_columns(MLB)"
   ]
  },
  {
   "cell_type": "code",
   "execution_count": 81,
   "metadata": {},
   "outputs": [
    {
     "data": {
      "text/plain": [
       "Index(['Division', 'Team', 'City', 'Stadium', 'Capacity', 'Coordinates',\n",
       "       'Founded', 'Joined', 'Ref'],\n",
       "      dtype='object')"
      ]
     },
     "execution_count": 81,
     "metadata": {},
     "output_type": "execute_result"
    }
   ],
   "source": [
    "MLB.columns"
   ]
  },
  {
   "cell_type": "code",
   "execution_count": 82,
   "metadata": {},
   "outputs": [],
   "source": [
    "MLB = MLB.drop(columns=['Division','Ref'])"
   ]
  },
  {
   "cell_type": "code",
   "execution_count": 316,
   "metadata": {},
   "outputs": [],
   "source": [
    "#Clean the Coordinates\n",
    "def fix_wiki_coordinates(league_df):\n",
    "    '''\n",
    "    Reformat the Arena coordinates from the wikipedia table.\n",
    "    '''\n",
    "    new_coords, lat, long = [], [], []\n",
    "    \n",
    "    for row in league_df.Coordinates.str.split('/'):\n",
    "        coord = row[1].split('\\ufeff')[1].split()\n",
    "        \n",
    "        coord_lat = float(coord[0].strip('°N'))\n",
    "        coord_long = -1*float(coord[1].strip('°W'))\n",
    "\n",
    "        new_coords.append((coord_lat, coord_long))\n",
    "        lat.append(coord_lat)\n",
    "        long.append(coord_long)\n",
    "\n",
    "    league_df['Coordinates'] = new_coords\n",
    "    league_df['Latitude'] = lat\n",
    "    league_df['Longitude'] = long"
   ]
  },
  {
   "cell_type": "code",
   "execution_count": null,
   "metadata": {},
   "outputs": [],
   "source": [
    "fix_wiki_coordinates(MLB)"
   ]
  },
  {
   "cell_type": "code",
   "execution_count": 346,
   "metadata": {},
   "outputs": [],
   "source": [
    "def fix_wiki_year(league_df):\n",
    "    league_df['Founded'] = league_df.Founded.str.strip('*()NLA ').astype(int)\n",
    "    league_df['Joined'] = league_df.Joined.str.strip('*()NLA ').astype(int)"
   ]
  },
  {
   "cell_type": "code",
   "execution_count": 347,
   "metadata": {},
   "outputs": [],
   "source": [
    "fix_wiki_year(MLB)"
   ]
  },
  {
   "cell_type": "markdown",
   "metadata": {},
   "source": [
    "## Add attendance"
   ]
  },
  {
   "cell_type": "markdown",
   "metadata": {},
   "source": [
    "I needed to find attendance on another website. This is the case for all the sports."
   ]
  },
  {
   "cell_type": "code",
   "execution_count": 202,
   "metadata": {},
   "outputs": [],
   "source": [
    "mlb_attend = pd.read_html('http://www.espn.com/mlb/attendance')"
   ]
  },
  {
   "cell_type": "code",
   "execution_count": 203,
   "metadata": {},
   "outputs": [],
   "source": [
    "mlb_attend = mlb_attend[0].drop([0,3,5,6,7,8,9,10,11], axis=1)"
   ]
  },
  {
   "cell_type": "code",
   "execution_count": 204,
   "metadata": {},
   "outputs": [],
   "source": [
    "mlb_attend.columns = mlb_attend.loc[1]"
   ]
  },
  {
   "cell_type": "code",
   "execution_count": 205,
   "metadata": {},
   "outputs": [],
   "source": [
    "mlb_attend = mlb_attend.drop([0,1])"
   ]
  },
  {
   "cell_type": "code",
   "execution_count": 260,
   "metadata": {},
   "outputs": [],
   "source": [
    "mlb_attend.columns = ['Team','Games','AvgAttendance']"
   ]
  },
  {
   "cell_type": "code",
   "execution_count": 241,
   "metadata": {},
   "outputs": [],
   "source": [
    "mlb_attend = mlb_attend.sort_values('TEAM').reset_index().drop('index',axis=1)"
   ]
  },
  {
   "cell_type": "code",
   "execution_count": 269,
   "metadata": {},
   "outputs": [],
   "source": [
    "MLB = MLB.join(mlb_attend['AvgAttendance'])\n",
    "MLB = MLB.join(mlb_attend['Games'])"
   ]
  },
  {
   "cell_type": "code",
   "execution_count": 226,
   "metadata": {},
   "outputs": [],
   "source": [
    "MLB['Games'] = mlb_attend.sort_values('TEAM').GMS"
   ]
  },
  {
   "cell_type": "code",
   "execution_count": 232,
   "metadata": {},
   "outputs": [],
   "source": [
    "MLB = MLB.drop(['AvgAttendance', 'Games'],axis=1)"
   ]
  },
  {
   "cell_type": "code",
   "execution_count": 253,
   "metadata": {},
   "outputs": [],
   "source": [
    "MLB = MLB.drop(['level_0'],axis=1)"
   ]
  },
  {
   "cell_type": "code",
   "execution_count": null,
   "metadata": {},
   "outputs": [],
   "source": []
  },
  {
   "cell_type": "code",
   "execution_count": 349,
   "metadata": {},
   "outputs": [],
   "source": [
    "MLB.to_csv('MLB.csv')"
   ]
  },
  {
   "cell_type": "markdown",
   "metadata": {},
   "source": [
    "# NBA"
   ]
  },
  {
   "cell_type": "code",
   "execution_count": 319,
   "metadata": {},
   "outputs": [],
   "source": [
    "NBA = pd.read_html('https://en.wikipedia.org/wiki/National_Basketball_Association')"
   ]
  },
  {
   "cell_type": "code",
   "execution_count": 320,
   "metadata": {},
   "outputs": [],
   "source": [
    "#select specific table\n",
    "NBA = NBA[2]"
   ]
  },
  {
   "cell_type": "code",
   "execution_count": 321,
   "metadata": {},
   "outputs": [],
   "source": [
    "#Drop conference row that was a divider\n",
    "NBA = NBA.drop([15],axis=0)"
   ]
  },
  {
   "cell_type": "code",
   "execution_count": 322,
   "metadata": {},
   "outputs": [],
   "source": [
    "fix_wiki_columns(NBA)"
   ]
  },
  {
   "cell_type": "code",
   "execution_count": 323,
   "metadata": {},
   "outputs": [],
   "source": [
    "#Alphabatize by team name\n",
    "NBA = NBA.sort_values('Team').reset_index().drop('index',axis=1)"
   ]
  },
  {
   "cell_type": "code",
   "execution_count": 325,
   "metadata": {},
   "outputs": [],
   "source": [
    "NBA = NBA.drop(columns=['Division','Unnamed: 8_level_0'])"
   ]
  },
  {
   "cell_type": "code",
   "execution_count": 326,
   "metadata": {},
   "outputs": [],
   "source": [
    "fix_wiki_coordinates(NBA)"
   ]
  },
  {
   "cell_type": "code",
   "execution_count": 350,
   "metadata": {},
   "outputs": [],
   "source": [
    "fix_wiki_year(NBA)"
   ]
  },
  {
   "cell_type": "markdown",
   "metadata": {},
   "source": [
    "## Add Indices"
   ]
  },
  {
   "cell_type": "code",
   "execution_count": 419,
   "metadata": {},
   "outputs": [],
   "source": [
    "team_index = []\n",
    "for team in NBA.Team:\n",
    "    team_index.append(team.split()[-1].lower())\n",
    "\n",
    "NBA['team_index'] = team_index\n",
    "\n",
    "NBA = NBA.set_index('team_index')"
   ]
  },
  {
   "cell_type": "markdown",
   "metadata": {},
   "source": [
    "## Add attendance"
   ]
  },
  {
   "cell_type": "code",
   "execution_count": 367,
   "metadata": {},
   "outputs": [],
   "source": [
    "nba_attend = pd.read_html('http://www.espn.com/nba/attendance/_/year/2019')"
   ]
  },
  {
   "cell_type": "code",
   "execution_count": 370,
   "metadata": {},
   "outputs": [],
   "source": [
    "nba_attend = nba_attend[0].drop([0,3,5,6,7,8,9,10,11], axis=1)\n",
    "nba_attend = nba_attend.drop([32,33,34,35], axis=0)"
   ]
  },
  {
   "cell_type": "code",
   "execution_count": 372,
   "metadata": {},
   "outputs": [],
   "source": [
    "nba_attend.columns = nba_attend.loc[1]\n",
    "nba_attend = nba_attend.drop([0,1])\n",
    "nba_attend.columns = ['Team','Games','AvgAttendance']"
   ]
  },
  {
   "cell_type": "code",
   "execution_count": 374,
   "metadata": {},
   "outputs": [],
   "source": [
    "nba_attend = nba_attend.sort_values('Team').reset_index().drop('index',axis=1)"
   ]
  },
  {
   "cell_type": "markdown",
   "metadata": {},
   "source": [
    "### add indices to attendance table"
   ]
  },
  {
   "cell_type": "code",
   "execution_count": 420,
   "metadata": {},
   "outputs": [],
   "source": [
    "team_index = []\n",
    "for team in nba_attend.Team:\n",
    "    if len(team.split()) == 2:\n",
    "        team_index.append(team.split()[-1].lower())\n",
    "    else:\n",
    "        team_index.append(team.lower())\n",
    "    #print(team)\n",
    "\n",
    "nba_attend['team_index'] = team_index\n",
    "\n",
    "nba_attend = nba_attend.set_index('team_index')"
   ]
  },
  {
   "cell_type": "markdown",
   "metadata": {},
   "source": [
    "### Add new attendance columns"
   ]
  },
  {
   "cell_type": "code",
   "execution_count": 429,
   "metadata": {},
   "outputs": [],
   "source": [
    "NBA = NBA.join(nba_attend.AvgAttendance)\n",
    "NBA = NBA.join(nba_attend.Games)"
   ]
  },
  {
   "cell_type": "code",
   "execution_count": 431,
   "metadata": {
    "scrolled": false
   },
   "outputs": [],
   "source": [
    "NBA.to_csv('NBA.csv')"
   ]
  },
  {
   "cell_type": "markdown",
   "metadata": {},
   "source": [
    "# NFL"
   ]
  },
  {
   "cell_type": "code",
   "execution_count": 432,
   "metadata": {},
   "outputs": [],
   "source": [
    "NFL = pd.read_html('https://en.wikipedia.org/wiki/National_Football_League')"
   ]
  },
  {
   "cell_type": "code",
   "execution_count": 435,
   "metadata": {},
   "outputs": [],
   "source": [
    "#select specific table\n",
    "NFL = NFL[2]"
   ]
  },
  {
   "cell_type": "markdown",
   "metadata": {},
   "source": [
    "## Cleaning NFL table"
   ]
  },
  {
   "cell_type": "code",
   "execution_count": 436,
   "metadata": {},
   "outputs": [],
   "source": [
    "#Drop conference row that was a divider\n",
    "NFL = NFL.drop([16,33],axis=0)"
   ]
  },
  {
   "cell_type": "code",
   "execution_count": 438,
   "metadata": {},
   "outputs": [],
   "source": [
    "#Remove conference in the header\n",
    "fix_wiki_columns(NFL)"
   ]
  },
  {
   "cell_type": "code",
   "execution_count": 440,
   "metadata": {},
   "outputs": [],
   "source": [
    "NFL = NFL.drop(columns=['Division[57]','Head coach'])"
   ]
  },
  {
   "cell_type": "code",
   "execution_count": 442,
   "metadata": {},
   "outputs": [],
   "source": [
    "NFL.columns = ['Team','City','Stadium','Capacity','Coordinates','First_Season']"
   ]
  },
  {
   "cell_type": "code",
   "execution_count": 444,
   "metadata": {},
   "outputs": [],
   "source": [
    "#Alphabatize by team name\n",
    "NFL = NFL.sort_values('Team').reset_index().drop('index',axis=1)"
   ]
  },
  {
   "cell_type": "code",
   "execution_count": 447,
   "metadata": {},
   "outputs": [],
   "source": [
    "fix_wiki_coordinates(NFL)"
   ]
  },
  {
   "cell_type": "code",
   "execution_count": 1108,
   "metadata": {},
   "outputs": [],
   "source": [
    "NFL['Founded'] = NFL.First_Season.str[0:4].astype(int)"
   ]
  },
  {
   "cell_type": "code",
   "execution_count": 1113,
   "metadata": {},
   "outputs": [],
   "source": [
    "NFL = NFL.drop(['First_Season'],axis=1)"
   ]
  },
  {
   "cell_type": "code",
   "execution_count": 451,
   "metadata": {},
   "outputs": [],
   "source": [
    "NFL['Team'] = NFL.Team.str.strip('*†')"
   ]
  },
  {
   "cell_type": "code",
   "execution_count": 465,
   "metadata": {},
   "outputs": [],
   "source": [
    "#index is team\n",
    "team_index = []\n",
    "for team in NFL.Team:\n",
    "    if len(team.split()) == 2:\n",
    "        team_index.append(team.split()[0].lower())\n",
    "    elif team.find('New York') != -1:\n",
    "        team_sym = team.split()[-1].lower()\n",
    "        team_index.append('ny '+team_sym)\n",
    "    elif team.find('Los Angeles') != -1:\n",
    "        team_sym = team.split()[-1].lower()\n",
    "        team_index.append('la '+team_sym)\n",
    "    else:\n",
    "        city0 = team.split()[0].lower()\n",
    "        city1 = team.split()[1].lower()\n",
    "        team_index.append(city0+' '+city1)\n",
    "        \n",
    "NFL['team_index'] = team_index\n",
    "NFL = NFL.set_index('team_index')"
   ]
  },
  {
   "cell_type": "code",
   "execution_count": null,
   "metadata": {},
   "outputs": [],
   "source": []
  },
  {
   "cell_type": "markdown",
   "metadata": {},
   "source": [
    "## Add attendance"
   ]
  },
  {
   "cell_type": "code",
   "execution_count": 493,
   "metadata": {},
   "outputs": [],
   "source": [
    "nfl_attend = pd.read_html('http://www.espn.com/nfl/attendance/_/year/2019')"
   ]
  },
  {
   "cell_type": "code",
   "execution_count": 494,
   "metadata": {},
   "outputs": [],
   "source": [
    "nfl_attend = nfl_attend[0].drop([0,3,5,6,7,8,9,10,11,12,13], axis=1)"
   ]
  },
  {
   "cell_type": "code",
   "execution_count": 495,
   "metadata": {},
   "outputs": [],
   "source": [
    "nfl_attend = nfl_attend.drop([0,1])\n",
    "nfl_attend.columns = ['Team','Games','AvgAttendance']"
   ]
  },
  {
   "cell_type": "markdown",
   "metadata": {},
   "source": [
    "### add indices"
   ]
  },
  {
   "cell_type": "code",
   "execution_count": 496,
   "metadata": {},
   "outputs": [],
   "source": [
    "nfl_attend.loc[12,'Team'] = 'la rams'\n",
    "nfl_attend.loc[33,'Team'] = 'la chargers'"
   ]
  },
  {
   "cell_type": "code",
   "execution_count": 500,
   "metadata": {},
   "outputs": [],
   "source": [
    "nfl_attend['Team'] = nfl_attend.Team.str.lower()"
   ]
  },
  {
   "cell_type": "code",
   "execution_count": 501,
   "metadata": {},
   "outputs": [],
   "source": [
    "nfl_attend = nfl_attend.set_index('Team')"
   ]
  },
  {
   "cell_type": "markdown",
   "metadata": {},
   "source": [
    "### Add new attendance columns"
   ]
  },
  {
   "cell_type": "code",
   "execution_count": 504,
   "metadata": {},
   "outputs": [],
   "source": [
    "NFL = NFL.join(nfl_attend.AvgAttendance)\n",
    "NFL = NFL.join(nfl_attend.Games)"
   ]
  },
  {
   "cell_type": "code",
   "execution_count": null,
   "metadata": {},
   "outputs": [],
   "source": []
  },
  {
   "cell_type": "code",
   "execution_count": 505,
   "metadata": {
    "scrolled": false
   },
   "outputs": [],
   "source": [
    "NFL.to_csv('NFL.csv')"
   ]
  },
  {
   "cell_type": "code",
   "execution_count": null,
   "metadata": {},
   "outputs": [],
   "source": []
  },
  {
   "cell_type": "code",
   "execution_count": null,
   "metadata": {},
   "outputs": [],
   "source": []
  },
  {
   "cell_type": "code",
   "execution_count": null,
   "metadata": {},
   "outputs": [],
   "source": []
  },
  {
   "cell_type": "markdown",
   "metadata": {},
   "source": [
    "# NHL"
   ]
  },
  {
   "cell_type": "code",
   "execution_count": 506,
   "metadata": {},
   "outputs": [],
   "source": [
    "NHL = pd.read_html('https://en.wikipedia.org/wiki/National_Hockey_League')"
   ]
  },
  {
   "cell_type": "code",
   "execution_count": 509,
   "metadata": {},
   "outputs": [],
   "source": [
    "#select specific table\n",
    "NHL = NHL[2]"
   ]
  },
  {
   "cell_type": "code",
   "execution_count": 511,
   "metadata": {},
   "outputs": [],
   "source": [
    "#Drop conference row that was a divider\n",
    "NHL = NHL.drop([16],axis=0)"
   ]
  },
  {
   "cell_type": "code",
   "execution_count": 512,
   "metadata": {},
   "outputs": [],
   "source": [
    "fix_wiki_columns(NHL)"
   ]
  },
  {
   "cell_type": "code",
   "execution_count": 515,
   "metadata": {},
   "outputs": [],
   "source": [
    "NHL = NHL.drop(columns=['Division','General manager','Head coach','Captain'])"
   ]
  },
  {
   "cell_type": "code",
   "execution_count": 517,
   "metadata": {},
   "outputs": [],
   "source": [
    "fix_wiki_year(NHL)"
   ]
  },
  {
   "cell_type": "markdown",
   "metadata": {},
   "source": [
    "## Add indices to the NHL table"
   ]
  },
  {
   "cell_type": "code",
   "execution_count": 522,
   "metadata": {},
   "outputs": [],
   "source": [
    "#index based on team\n",
    "team_index = []\n",
    "for team in NHL.Team:\n",
    "    if team.find('New York') != -1:\n",
    "        team_sym = team.split()[-1].lower()\n",
    "        team_index.append('ny '+team_sym)\n",
    "    \n",
    "    else:\n",
    "        team_index.append(team.split()[0].lower())\n",
    "        \n",
    "NHL['team_index'] = team_index\n",
    "NHL = NHL.set_index('team_index')"
   ]
  },
  {
   "cell_type": "code",
   "execution_count": null,
   "metadata": {},
   "outputs": [],
   "source": []
  },
  {
   "cell_type": "markdown",
   "metadata": {},
   "source": [
    "## Add attendance"
   ]
  },
  {
   "cell_type": "code",
   "execution_count": 523,
   "metadata": {},
   "outputs": [],
   "source": [
    "nhl_attend = pd.read_html('http://www.espn.com/nhl/attendance/_/year/2019')"
   ]
  },
  {
   "cell_type": "code",
   "execution_count": 526,
   "metadata": {},
   "outputs": [],
   "source": [
    "nhl_attend = nhl_attend[0].drop([0,3,5,6,7,8,9,10,11], axis=1)"
   ]
  },
  {
   "cell_type": "code",
   "execution_count": 529,
   "metadata": {},
   "outputs": [],
   "source": [
    "nhl_attend = nhl_attend.drop([0,1])\n",
    "nhl_attend.columns = ['Team','Games','AvgAttendance']"
   ]
  },
  {
   "cell_type": "markdown",
   "metadata": {},
   "source": [
    "### add indices"
   ]
  },
  {
   "cell_type": "code",
   "execution_count": 534,
   "metadata": {},
   "outputs": [],
   "source": [
    "#index based on team\n",
    "team_index = []\n",
    "for team in nhl_attend.Team:\n",
    "    if team.find('NY') != -1:\n",
    "        team_sym = team.split()[-1].lower()\n",
    "        team_index.append('ny '+team_sym)\n",
    "    \n",
    "    else:\n",
    "        team_index.append(team.split()[0].lower())\n",
    "        \n",
    "nhl_attend['team_index'] = team_index\n",
    "nhl_attend = nhl_attend.set_index('team_index')"
   ]
  },
  {
   "cell_type": "markdown",
   "metadata": {},
   "source": [
    "### Add new attendance columns"
   ]
  },
  {
   "cell_type": "code",
   "execution_count": 537,
   "metadata": {},
   "outputs": [],
   "source": [
    "NHL = NHL.join(nhl_attend.AvgAttendance)\n",
    "NHL = NHL.join(nhl_attend.Games)"
   ]
  },
  {
   "cell_type": "code",
   "execution_count": 545,
   "metadata": {},
   "outputs": [],
   "source": [
    "NHL.loc['ny islanders','City'] ='New York City, New York'\n",
    "NHL.loc['ny islanders','Arena'] = 'Barclays Center'\n",
    "NHL.loc['ny islanders','Capacity'] = 15795\n",
    "NHL.loc['arizona','Team'] = 'Arizona Coyotes'"
   ]
  },
  {
   "cell_type": "markdown",
   "metadata": {},
   "source": [
    "### Add coordinates"
   ]
  },
  {
   "cell_type": "markdown",
   "metadata": {},
   "source": [
    "The NHL team details didn't include coordinates for the stadium, so I needed to get them. I used geopy to get them."
   ]
  },
  {
   "cell_type": "code",
   "execution_count": 552,
   "metadata": {},
   "outputs": [],
   "source": [
    "geopy.geocoders.options.default_user_agent = 'Metis Project 2'\n",
    "geopy.geocoders.options.default_timeout = 15\n",
    "geolocator = Nominatim()"
   ]
  },
  {
   "cell_type": "code",
   "execution_count": 619,
   "metadata": {},
   "outputs": [],
   "source": [
    "def arena_coordinates(league_df,arena='Arena',city='City'):\n",
    "    '''\n",
    "    Findes the coordinates of the arenas in the league. Default column names are Arena and City\n",
    "    '''\n",
    "    lats, longs, coords = [], [], []\n",
    "    \n",
    "    for stadium in league_df[arena]+' '+league_df[city]:\n",
    "        location = geolocator.geocode(stadium)\n",
    "        time.sleep(5)\n",
    "        \n",
    "        try:\n",
    "            lats.append(location.latitude)\n",
    "            longs.append(location.longitude)\n",
    "            coords.append((location.latitude,location.longitude))\n",
    "        except:\n",
    "            lats.append(np.NaN)\n",
    "            longs.append(np.NaN)\n",
    "            coords.append(np.NaN)\n",
    "            print(\"Couldn't find \",stadium)\n",
    "    \n",
    "    league_df['Coordinates'] = coords\n",
    "    league_df['Latitude'] = lats\n",
    "    league_df['Longitude'] = longs\n",
    "    return"
   ]
  },
  {
   "cell_type": "code",
   "execution_count": 620,
   "metadata": {},
   "outputs": [
    {
     "name": "stdout",
     "output_type": "stream",
     "text": [
      "Couldn't find  SAP Center San Jose, California\n"
     ]
    }
   ],
   "source": [
    "arena_coordinates(NHL)"
   ]
  },
  {
   "cell_type": "code",
   "execution_count": 637,
   "metadata": {},
   "outputs": [
    {
     "ename": "ValueError",
     "evalue": "Must have equal len keys and value when setting with an iterable",
     "output_type": "error",
     "traceback": [
      "\u001b[0;31m---------------------------------------------------------------------------\u001b[0m",
      "\u001b[0;31mValueError\u001b[0m                                Traceback (most recent call last)",
      "\u001b[0;32m<ipython-input-637-9a31ff199c41>\u001b[0m in \u001b[0;36m<module>\u001b[0;34m\u001b[0m\n\u001b[1;32m      1\u001b[0m \u001b[0mcoord\u001b[0m \u001b[0;34m=\u001b[0m \u001b[0;34m(\u001b[0m\u001b[0;36m37.3327507\u001b[0m\u001b[0;34m,\u001b[0m\u001b[0;34m-\u001b[0m\u001b[0;36m121.9012447\u001b[0m\u001b[0;34m)\u001b[0m\u001b[0;34m\u001b[0m\u001b[0;34m\u001b[0m\u001b[0m\n\u001b[0;32m----> 2\u001b[0;31m \u001b[0mNHL\u001b[0m\u001b[0;34m.\u001b[0m\u001b[0mloc\u001b[0m\u001b[0;34m[\u001b[0m\u001b[0;34m'san'\u001b[0m\u001b[0;34m,\u001b[0m\u001b[0;34m'Coordinates'\u001b[0m\u001b[0;34m]\u001b[0m \u001b[0;34m=\u001b[0m \u001b[0mcoord\u001b[0m\u001b[0;34m\u001b[0m\u001b[0;34m\u001b[0m\u001b[0m\n\u001b[0m",
      "\u001b[0;32m~/opt/anaconda3/envs/metis/lib/python3.7/site-packages/pandas/core/indexing.py\u001b[0m in \u001b[0;36m__setitem__\u001b[0;34m(self, key, value)\u001b[0m\n\u001b[1;32m    203\u001b[0m             \u001b[0mkey\u001b[0m \u001b[0;34m=\u001b[0m \u001b[0mcom\u001b[0m\u001b[0;34m.\u001b[0m\u001b[0mapply_if_callable\u001b[0m\u001b[0;34m(\u001b[0m\u001b[0mkey\u001b[0m\u001b[0;34m,\u001b[0m \u001b[0mself\u001b[0m\u001b[0;34m.\u001b[0m\u001b[0mobj\u001b[0m\u001b[0;34m)\u001b[0m\u001b[0;34m\u001b[0m\u001b[0;34m\u001b[0m\u001b[0m\n\u001b[1;32m    204\u001b[0m         \u001b[0mindexer\u001b[0m \u001b[0;34m=\u001b[0m \u001b[0mself\u001b[0m\u001b[0;34m.\u001b[0m\u001b[0m_get_setitem_indexer\u001b[0m\u001b[0;34m(\u001b[0m\u001b[0mkey\u001b[0m\u001b[0;34m)\u001b[0m\u001b[0;34m\u001b[0m\u001b[0;34m\u001b[0m\u001b[0m\n\u001b[0;32m--> 205\u001b[0;31m         \u001b[0mself\u001b[0m\u001b[0;34m.\u001b[0m\u001b[0m_setitem_with_indexer\u001b[0m\u001b[0;34m(\u001b[0m\u001b[0mindexer\u001b[0m\u001b[0;34m,\u001b[0m \u001b[0mvalue\u001b[0m\u001b[0;34m)\u001b[0m\u001b[0;34m\u001b[0m\u001b[0;34m\u001b[0m\u001b[0m\n\u001b[0m\u001b[1;32m    206\u001b[0m \u001b[0;34m\u001b[0m\u001b[0m\n\u001b[1;32m    207\u001b[0m     \u001b[0;32mdef\u001b[0m \u001b[0m_validate_key\u001b[0m\u001b[0;34m(\u001b[0m\u001b[0mself\u001b[0m\u001b[0;34m,\u001b[0m \u001b[0mkey\u001b[0m\u001b[0;34m,\u001b[0m \u001b[0maxis\u001b[0m\u001b[0;34m:\u001b[0m \u001b[0mint\u001b[0m\u001b[0;34m)\u001b[0m\u001b[0;34m:\u001b[0m\u001b[0;34m\u001b[0m\u001b[0;34m\u001b[0m\u001b[0m\n",
      "\u001b[0;32m~/opt/anaconda3/envs/metis/lib/python3.7/site-packages/pandas/core/indexing.py\u001b[0m in \u001b[0;36m_setitem_with_indexer\u001b[0;34m(self, indexer, value)\u001b[0m\n\u001b[1;32m    545\u001b[0m                     \u001b[0;32mif\u001b[0m \u001b[0mlen\u001b[0m\u001b[0;34m(\u001b[0m\u001b[0mlabels\u001b[0m\u001b[0;34m)\u001b[0m \u001b[0;34m!=\u001b[0m \u001b[0mlen\u001b[0m\u001b[0;34m(\u001b[0m\u001b[0mvalue\u001b[0m\u001b[0;34m)\u001b[0m\u001b[0;34m:\u001b[0m\u001b[0;34m\u001b[0m\u001b[0;34m\u001b[0m\u001b[0m\n\u001b[1;32m    546\u001b[0m                         raise ValueError(\n\u001b[0;32m--> 547\u001b[0;31m                             \u001b[0;34m\"Must have equal len keys and value \"\u001b[0m\u001b[0;34m\u001b[0m\u001b[0;34m\u001b[0m\u001b[0m\n\u001b[0m\u001b[1;32m    548\u001b[0m                             \u001b[0;34m\"when setting with an iterable\"\u001b[0m\u001b[0;34m\u001b[0m\u001b[0;34m\u001b[0m\u001b[0m\n\u001b[1;32m    549\u001b[0m                         )\n",
      "\u001b[0;31mValueError\u001b[0m: Must have equal len keys and value when setting with an iterable"
     ]
    }
   ],
   "source": [
    "coord = (37.3327507,-121.9012447)\n",
    "NHL.loc['san','Coordinates'] = coord "
   ]
  },
  {
   "cell_type": "code",
   "execution_count": 629,
   "metadata": {},
   "outputs": [],
   "source": [
    "NHL.loc['san','Latitude'] = 37.3327507\n",
    "NHL.loc['san','Longitude'] = -121.9012447"
   ]
  },
  {
   "cell_type": "code",
   "execution_count": 826,
   "metadata": {},
   "outputs": [
    {
     "data": {
      "text/plain": [
       "Team                  San Jose Sharks\n",
       "City             San Jose, California\n",
       "Arena                      SAP Center\n",
       "Capacity                        17562\n",
       "Founded                          1991\n",
       "Joined                           1991\n",
       "AvgAttendance                   17266\n",
       "Games                              41\n",
       "Coordinates                       NaN\n",
       "Latitude                      37.3328\n",
       "Longitude                    -121.901\n",
       "Name: san, dtype: object"
      ]
     },
     "execution_count": 826,
     "metadata": {},
     "output_type": "execute_result"
    }
   ],
   "source": [
    "NHL.loc['san']"
   ]
  },
  {
   "cell_type": "code",
   "execution_count": 622,
   "metadata": {
    "scrolled": false
   },
   "outputs": [],
   "source": [
    "NHL.to_csv('NHL.csv')"
   ]
  },
  {
   "cell_type": "code",
   "execution_count": null,
   "metadata": {},
   "outputs": [],
   "source": []
  },
  {
   "cell_type": "markdown",
   "metadata": {},
   "source": [
    "# MLS"
   ]
  },
  {
   "cell_type": "code",
   "execution_count": 848,
   "metadata": {},
   "outputs": [],
   "source": [
    "MLS = pd.read_html('https://en.wikipedia.org/wiki/Major_League_Soccer')"
   ]
  },
  {
   "cell_type": "code",
   "execution_count": 849,
   "metadata": {},
   "outputs": [],
   "source": [
    "MLS = MLS[1]"
   ]
  },
  {
   "cell_type": "code",
   "execution_count": 850,
   "metadata": {},
   "outputs": [],
   "source": [
    "#Drop conference row that was a divider\n",
    "MLS = MLS.drop([13],axis=0)"
   ]
  },
  {
   "cell_type": "code",
   "execution_count": 851,
   "metadata": {},
   "outputs": [],
   "source": [
    "fix_wiki_columns(MLS)"
   ]
  },
  {
   "cell_type": "code",
   "execution_count": 852,
   "metadata": {},
   "outputs": [],
   "source": [
    "MLS = MLS.drop(columns=['Head coach'])"
   ]
  },
  {
   "cell_type": "code",
   "execution_count": 918,
   "metadata": {},
   "outputs": [
    {
     "data": {
      "text/plain": [
       "Team\n",
       "Inter Miami CF    Inter Miami CF\n",
       "Nashville SC        Nashville SC\n",
       "Name: Team, dtype: object"
      ]
     },
     "execution_count": 918,
     "metadata": {},
     "output_type": "execute_result"
    }
   ],
   "source": [
    "MLS.Team[(MLS.Joined == '2020')]"
   ]
  },
  {
   "cell_type": "code",
   "execution_count": 921,
   "metadata": {},
   "outputs": [],
   "source": [
    "MLS = MLS.drop(['Inter Miami CF','Nashville SC'],axis=0)"
   ]
  },
  {
   "cell_type": "code",
   "execution_count": 855,
   "metadata": {},
   "outputs": [],
   "source": [
    "MLS.Arena = MLS.Arena.str.strip('123 ')"
   ]
  },
  {
   "cell_type": "code",
   "execution_count": 856,
   "metadata": {},
   "outputs": [],
   "source": [
    "MLS.index = MLS.Team"
   ]
  },
  {
   "cell_type": "code",
   "execution_count": 866,
   "metadata": {},
   "outputs": [],
   "source": [
    "MLS.loc['Chicago Fire FC','City, State'] = 'Bridgeview, Illinois'\n",
    "MLS.loc['Chicago Fire FC','Arena'] = 'SeatGeek Stadium'"
   ]
  },
  {
   "cell_type": "code",
   "execution_count": 882,
   "metadata": {},
   "outputs": [],
   "source": [
    "capacities = []\n",
    "for i, cap in enumerate(MLS.Capacity):\n",
    "    if len(cap) == 6:\n",
    "        capacities.append(cap[0:-1])\n",
    "    else:\n",
    "        capacities.append(cap)\n",
    "MLS.Capacity = capacities"
   ]
  },
  {
   "cell_type": "markdown",
   "metadata": {},
   "source": [
    "## Add attendance"
   ]
  },
  {
   "cell_type": "code",
   "execution_count": 937,
   "metadata": {},
   "outputs": [],
   "source": [
    "mls_attend = pd.read_html('https://en.wikipedia.org/wiki/Major_League_Soccer_attendance#Doubleheader_games_highest_attendance')"
   ]
  },
  {
   "cell_type": "code",
   "execution_count": 938,
   "metadata": {},
   "outputs": [],
   "source": [
    "mls_attend = mls_attend[0]"
   ]
  },
  {
   "cell_type": "code",
   "execution_count": 949,
   "metadata": {},
   "outputs": [
    {
     "name": "stderr",
     "output_type": "stream",
     "text": [
      "/Users/nkfoster/opt/anaconda3/envs/metis/lib/python3.7/site-packages/ipykernel_launcher.py:1: SettingWithCopyWarning: \n",
      "A value is trying to be set on a copy of a slice from a DataFrame\n",
      "\n",
      "See the caveats in the documentation: http://pandas.pydata.org/pandas-docs/stable/user_guide/indexing.html#returning-a-view-versus-a-copy\n",
      "  \"\"\"Entry point for launching an IPython kernel.\n"
     ]
    }
   ],
   "source": [
    "mls_attend.Team[23] = 'Chicago Fire FC'"
   ]
  },
  {
   "cell_type": "code",
   "execution_count": 948,
   "metadata": {},
   "outputs": [
    {
     "name": "stderr",
     "output_type": "stream",
     "text": [
      "/Users/nkfoster/opt/anaconda3/envs/metis/lib/python3.7/site-packages/ipykernel_launcher.py:1: SettingWithCopyWarning: \n",
      "A value is trying to be set on a copy of a slice from a DataFrame\n",
      "\n",
      "See the caveats in the documentation: http://pandas.pydata.org/pandas-docs/stable/user_guide/indexing.html#returning-a-view-versus-a-copy\n",
      "  \"\"\"Entry point for launching an IPython kernel.\n"
     ]
    }
   ],
   "source": [
    "mls_attend.Team[20] = 'Columbus Crew SC'"
   ]
  },
  {
   "cell_type": "code",
   "execution_count": 951,
   "metadata": {},
   "outputs": [],
   "source": [
    "mls_attend = mls_attend.set_index('Team')"
   ]
  },
  {
   "cell_type": "code",
   "execution_count": 952,
   "metadata": {},
   "outputs": [],
   "source": [
    "mls_attend.columns = ['AvgAttendance',1,2,3,4,5]"
   ]
  },
  {
   "cell_type": "code",
   "execution_count": 955,
   "metadata": {
    "scrolled": true
   },
   "outputs": [],
   "source": [
    "MLS = MLS.join(mls_attend['AvgAttendance'])"
   ]
  },
  {
   "cell_type": "code",
   "execution_count": 1196,
   "metadata": {},
   "outputs": [],
   "source": [
    "MLS['Games'] = 17"
   ]
  },
  {
   "cell_type": "markdown",
   "metadata": {},
   "source": [
    "## Add coordinates"
   ]
  },
  {
   "cell_type": "code",
   "execution_count": 957,
   "metadata": {},
   "outputs": [
    {
     "name": "stdout",
     "output_type": "stream",
     "text": [
      "Couldn't find  Dignity Health Sports Park Carson, California\n"
     ]
    }
   ],
   "source": [
    "arena_coordinates(MLS, city='City, State')"
   ]
  },
  {
   "cell_type": "code",
   "execution_count": 965,
   "metadata": {},
   "outputs": [],
   "source": [
    "MLS.loc['LA Galaxy','Latitude'] = 33.8643643 \n",
    "MLS.loc['LA Galaxy','Longitude'] = -118.261207"
   ]
  },
  {
   "cell_type": "code",
   "execution_count": 967,
   "metadata": {},
   "outputs": [],
   "source": [
    "MLS.to_csv('MLS.csv')"
   ]
  },
  {
   "cell_type": "code",
   "execution_count": null,
   "metadata": {},
   "outputs": [],
   "source": []
  },
  {
   "cell_type": "code",
   "execution_count": null,
   "metadata": {},
   "outputs": [],
   "source": []
  },
  {
   "cell_type": "code",
   "execution_count": null,
   "metadata": {},
   "outputs": [],
   "source": []
  },
  {
   "cell_type": "markdown",
   "metadata": {},
   "source": [
    "# Add standings"
   ]
  },
  {
   "cell_type": "markdown",
   "metadata": {},
   "source": [
    "Team win records had to be added from another website. I standardized the win percentages. Each win was worth a point and a tie was worth .5. Then the total was divided by the number of games."
   ]
  },
  {
   "cell_type": "code",
   "execution_count": 732,
   "metadata": {},
   "outputs": [],
   "source": [
    "def get_ESPN_standings(url):\n",
    "    standings = pd.read_html(url)\n",
    "    #fix team columns\n",
    "    first_row = pd.DataFrame({'Team' : [standings[0].columns[0]]})\n",
    "    standings[0].columns = ['Team']\n",
    "    team_standings = first_row.append(standings[0]).reset_index()\n",
    "    team_standings = team_standings.drop('index', axis=1)\n",
    "\n",
    "    team_standings = team_standings.join(standings[1])\n",
    "    \n",
    "    team_index = []\n",
    "    for team in team_standings.Team:\n",
    "        if team.find('Sox') == -1:\n",
    "            team_index.append(team.split()[-1].lower())\n",
    "        else:\n",
    "            team_index.append(team.split()[-2].lower()+' '+team.split()[-1].lower())\n",
    "    team_standings['team_index'] = team_index\n",
    "    team_standings = team_standings.set_index('team_index')\n",
    "    return team_standings\n"
   ]
  },
  {
   "cell_type": "code",
   "execution_count": 969,
   "metadata": {},
   "outputs": [],
   "source": [
    "def reindex_league(league_df):\n",
    "    team_index = []\n",
    "    for team in league_df.Team:\n",
    "        if team.find('Sox') == -1:\n",
    "            team_index.append(team.split()[-1].lower())\n",
    "        else:\n",
    "            team_index.append(team.split()[-2].lower()+' '+team.split()[-1].lower())\n",
    "    league_df.index = team_index\n",
    "    #league_df = league_df.set_index('team_index')"
   ]
  },
  {
   "cell_type": "markdown",
   "metadata": {},
   "source": [
    "## MLB"
   ]
  },
  {
   "cell_type": "code",
   "execution_count": 733,
   "metadata": {},
   "outputs": [],
   "source": [
    "mlb_standings = get_ESPN_standings('https://www.espn.com/mlb/standings/_/season/2018/group/overall')"
   ]
  },
  {
   "cell_type": "code",
   "execution_count": 734,
   "metadata": {
    "scrolled": true
   },
   "outputs": [
    {
     "data": {
      "text/html": [
       "<div>\n",
       "<style scoped>\n",
       "    .dataframe tbody tr th:only-of-type {\n",
       "        vertical-align: middle;\n",
       "    }\n",
       "\n",
       "    .dataframe tbody tr th {\n",
       "        vertical-align: top;\n",
       "    }\n",
       "\n",
       "    .dataframe thead th {\n",
       "        text-align: right;\n",
       "    }\n",
       "</style>\n",
       "<table border=\"1\" class=\"dataframe\">\n",
       "  <thead>\n",
       "    <tr style=\"text-align: right;\">\n",
       "      <th></th>\n",
       "      <th>Team</th>\n",
       "      <th>W</th>\n",
       "      <th>L</th>\n",
       "      <th>PCT</th>\n",
       "      <th>GB</th>\n",
       "      <th>HOME</th>\n",
       "      <th>AWAY</th>\n",
       "      <th>RS</th>\n",
       "      <th>RA</th>\n",
       "      <th>DIFF</th>\n",
       "      <th>STRK</th>\n",
       "      <th>L10</th>\n",
       "    </tr>\n",
       "    <tr>\n",
       "      <th>team_index</th>\n",
       "      <th></th>\n",
       "      <th></th>\n",
       "      <th></th>\n",
       "      <th></th>\n",
       "      <th></th>\n",
       "      <th></th>\n",
       "      <th></th>\n",
       "      <th></th>\n",
       "      <th></th>\n",
       "      <th></th>\n",
       "      <th></th>\n",
       "      <th></th>\n",
       "    </tr>\n",
       "  </thead>\n",
       "  <tbody>\n",
       "    <tr>\n",
       "      <th>red sox</th>\n",
       "      <td>* --BOSBoston Red Sox</td>\n",
       "      <td>108</td>\n",
       "      <td>54</td>\n",
       "      <td>0.667</td>\n",
       "      <td>-</td>\n",
       "      <td>57-24</td>\n",
       "      <td>51-30</td>\n",
       "      <td>876</td>\n",
       "      <td>647</td>\n",
       "      <td>229</td>\n",
       "      <td>W1</td>\n",
       "      <td>5-5</td>\n",
       "    </tr>\n",
       "    <tr>\n",
       "      <th>astros</th>\n",
       "      <td>x --HOUHouston Astros</td>\n",
       "      <td>103</td>\n",
       "      <td>59</td>\n",
       "      <td>0.636</td>\n",
       "      <td>5</td>\n",
       "      <td>46-35</td>\n",
       "      <td>57-24</td>\n",
       "      <td>797</td>\n",
       "      <td>534</td>\n",
       "      <td>263</td>\n",
       "      <td>L1</td>\n",
       "      <td>8-2</td>\n",
       "    </tr>\n",
       "    <tr>\n",
       "      <th>yankees</th>\n",
       "      <td>y --NYYNew York Yankees</td>\n",
       "      <td>100</td>\n",
       "      <td>62</td>\n",
       "      <td>0.617</td>\n",
       "      <td>8</td>\n",
       "      <td>53-28</td>\n",
       "      <td>47-34</td>\n",
       "      <td>851</td>\n",
       "      <td>669</td>\n",
       "      <td>182</td>\n",
       "      <td>L1</td>\n",
       "      <td>7-3</td>\n",
       "    </tr>\n",
       "    <tr>\n",
       "      <th>athletics</th>\n",
       "      <td>y --OAKOakland Athletics</td>\n",
       "      <td>97</td>\n",
       "      <td>65</td>\n",
       "      <td>0.599</td>\n",
       "      <td>11</td>\n",
       "      <td>50-31</td>\n",
       "      <td>47-34</td>\n",
       "      <td>813</td>\n",
       "      <td>674</td>\n",
       "      <td>139</td>\n",
       "      <td>L1</td>\n",
       "      <td>6-4</td>\n",
       "    </tr>\n",
       "    <tr>\n",
       "      <th>brewers</th>\n",
       "      <td>* --MILMilwaukee Brewers</td>\n",
       "      <td>96</td>\n",
       "      <td>67</td>\n",
       "      <td>0.589</td>\n",
       "      <td>12.5</td>\n",
       "      <td>51-30</td>\n",
       "      <td>45-37</td>\n",
       "      <td>754</td>\n",
       "      <td>659</td>\n",
       "      <td>95</td>\n",
       "      <td>W8</td>\n",
       "      <td>9-1</td>\n",
       "    </tr>\n",
       "    <tr>\n",
       "      <th>cubs</th>\n",
       "      <td>y --CHCChicago Cubs</td>\n",
       "      <td>95</td>\n",
       "      <td>68</td>\n",
       "      <td>0.583</td>\n",
       "      <td>13.5</td>\n",
       "      <td>51-31</td>\n",
       "      <td>44-37</td>\n",
       "      <td>761</td>\n",
       "      <td>645</td>\n",
       "      <td>116</td>\n",
       "      <td>L1</td>\n",
       "      <td>6-4</td>\n",
       "    </tr>\n",
       "    <tr>\n",
       "      <th>dodgers</th>\n",
       "      <td>x --LADLos Angeles Dodgers</td>\n",
       "      <td>92</td>\n",
       "      <td>71</td>\n",
       "      <td>0.564</td>\n",
       "      <td>16.5</td>\n",
       "      <td>45-37</td>\n",
       "      <td>47-34</td>\n",
       "      <td>804</td>\n",
       "      <td>610</td>\n",
       "      <td>194</td>\n",
       "      <td>W4</td>\n",
       "      <td>7-3</td>\n",
       "    </tr>\n",
       "    <tr>\n",
       "      <th>indians</th>\n",
       "      <td>x --CLECleveland Indians</td>\n",
       "      <td>91</td>\n",
       "      <td>71</td>\n",
       "      <td>0.562</td>\n",
       "      <td>17</td>\n",
       "      <td>49-32</td>\n",
       "      <td>42-39</td>\n",
       "      <td>818</td>\n",
       "      <td>648</td>\n",
       "      <td>170</td>\n",
       "      <td>W1</td>\n",
       "      <td>6-4</td>\n",
       "    </tr>\n",
       "    <tr>\n",
       "      <th>rockies</th>\n",
       "      <td>y --COLColorado Rockies</td>\n",
       "      <td>91</td>\n",
       "      <td>72</td>\n",
       "      <td>0.558</td>\n",
       "      <td>17.5</td>\n",
       "      <td>47-34</td>\n",
       "      <td>44-38</td>\n",
       "      <td>780</td>\n",
       "      <td>745</td>\n",
       "      <td>35</td>\n",
       "      <td>L1</td>\n",
       "      <td>8-2</td>\n",
       "    </tr>\n",
       "    <tr>\n",
       "      <th>braves</th>\n",
       "      <td>x --ATLAtlanta Braves</td>\n",
       "      <td>90</td>\n",
       "      <td>72</td>\n",
       "      <td>0.556</td>\n",
       "      <td>18</td>\n",
       "      <td>43-38</td>\n",
       "      <td>47-34</td>\n",
       "      <td>759</td>\n",
       "      <td>657</td>\n",
       "      <td>102</td>\n",
       "      <td>L2</td>\n",
       "      <td>6-4</td>\n",
       "    </tr>\n",
       "    <tr>\n",
       "      <th>rays</th>\n",
       "      <td>TBTampa Bay Rays</td>\n",
       "      <td>90</td>\n",
       "      <td>72</td>\n",
       "      <td>0.556</td>\n",
       "      <td>18</td>\n",
       "      <td>51-30</td>\n",
       "      <td>39-42</td>\n",
       "      <td>716</td>\n",
       "      <td>646</td>\n",
       "      <td>70</td>\n",
       "      <td>W2</td>\n",
       "      <td>5-5</td>\n",
       "    </tr>\n",
       "    <tr>\n",
       "      <th>mariners</th>\n",
       "      <td>SEASeattle Mariners</td>\n",
       "      <td>89</td>\n",
       "      <td>73</td>\n",
       "      <td>0.549</td>\n",
       "      <td>19</td>\n",
       "      <td>45-36</td>\n",
       "      <td>44-37</td>\n",
       "      <td>677</td>\n",
       "      <td>711</td>\n",
       "      <td>-34</td>\n",
       "      <td>W3</td>\n",
       "      <td>5-5</td>\n",
       "    </tr>\n",
       "    <tr>\n",
       "      <th>cardinals</th>\n",
       "      <td>STLSt. Louis Cardinals</td>\n",
       "      <td>88</td>\n",
       "      <td>74</td>\n",
       "      <td>0.543</td>\n",
       "      <td>20</td>\n",
       "      <td>43-38</td>\n",
       "      <td>45-36</td>\n",
       "      <td>759</td>\n",
       "      <td>691</td>\n",
       "      <td>68</td>\n",
       "      <td>L1</td>\n",
       "      <td>4-6</td>\n",
       "    </tr>\n",
       "    <tr>\n",
       "      <th>pirates</th>\n",
       "      <td>PITPittsburgh Pirates</td>\n",
       "      <td>82</td>\n",
       "      <td>79</td>\n",
       "      <td>0.509</td>\n",
       "      <td>25.5</td>\n",
       "      <td>44-36</td>\n",
       "      <td>38-43</td>\n",
       "      <td>692</td>\n",
       "      <td>693</td>\n",
       "      <td>-1</td>\n",
       "      <td>W1</td>\n",
       "      <td>5-5</td>\n",
       "    </tr>\n",
       "    <tr>\n",
       "      <th>nationals</th>\n",
       "      <td>WSHWashington Nationals</td>\n",
       "      <td>82</td>\n",
       "      <td>80</td>\n",
       "      <td>0.506</td>\n",
       "      <td>26</td>\n",
       "      <td>41-40</td>\n",
       "      <td>41-40</td>\n",
       "      <td>771</td>\n",
       "      <td>682</td>\n",
       "      <td>89</td>\n",
       "      <td>L1</td>\n",
       "      <td>5-5</td>\n",
       "    </tr>\n",
       "    <tr>\n",
       "      <th>diamondbacks</th>\n",
       "      <td>ARIArizona Diamondbacks</td>\n",
       "      <td>82</td>\n",
       "      <td>80</td>\n",
       "      <td>0.506</td>\n",
       "      <td>26</td>\n",
       "      <td>40-41</td>\n",
       "      <td>42-39</td>\n",
       "      <td>693</td>\n",
       "      <td>644</td>\n",
       "      <td>49</td>\n",
       "      <td>L1</td>\n",
       "      <td>4-6</td>\n",
       "    </tr>\n",
       "    <tr>\n",
       "      <th>angels</th>\n",
       "      <td>LAALos Angeles Angels</td>\n",
       "      <td>80</td>\n",
       "      <td>82</td>\n",
       "      <td>0.494</td>\n",
       "      <td>28</td>\n",
       "      <td>42-39</td>\n",
       "      <td>38-43</td>\n",
       "      <td>721</td>\n",
       "      <td>722</td>\n",
       "      <td>-1</td>\n",
       "      <td>W1</td>\n",
       "      <td>5-5</td>\n",
       "    </tr>\n",
       "    <tr>\n",
       "      <th>phillies</th>\n",
       "      <td>PHIPhiladelphia Phillies</td>\n",
       "      <td>80</td>\n",
       "      <td>82</td>\n",
       "      <td>0.494</td>\n",
       "      <td>28</td>\n",
       "      <td>49-32</td>\n",
       "      <td>31-50</td>\n",
       "      <td>677</td>\n",
       "      <td>728</td>\n",
       "      <td>-51</td>\n",
       "      <td>W2</td>\n",
       "      <td>2-8</td>\n",
       "    </tr>\n",
       "    <tr>\n",
       "      <th>twins</th>\n",
       "      <td>MINMinnesota Twins</td>\n",
       "      <td>78</td>\n",
       "      <td>84</td>\n",
       "      <td>0.481</td>\n",
       "      <td>30</td>\n",
       "      <td>49-32</td>\n",
       "      <td>29-52</td>\n",
       "      <td>738</td>\n",
       "      <td>775</td>\n",
       "      <td>-37</td>\n",
       "      <td>W6</td>\n",
       "      <td>7-3</td>\n",
       "    </tr>\n",
       "    <tr>\n",
       "      <th>mets</th>\n",
       "      <td>NYMNew York Mets</td>\n",
       "      <td>77</td>\n",
       "      <td>85</td>\n",
       "      <td>0.475</td>\n",
       "      <td>31</td>\n",
       "      <td>37-44</td>\n",
       "      <td>40-41</td>\n",
       "      <td>676</td>\n",
       "      <td>707</td>\n",
       "      <td>-31</td>\n",
       "      <td>W2</td>\n",
       "      <td>7-3</td>\n",
       "    </tr>\n",
       "    <tr>\n",
       "      <th>jays</th>\n",
       "      <td>TORToronto Blue Jays</td>\n",
       "      <td>73</td>\n",
       "      <td>89</td>\n",
       "      <td>0.451</td>\n",
       "      <td>35</td>\n",
       "      <td>40-41</td>\n",
       "      <td>33-48</td>\n",
       "      <td>709</td>\n",
       "      <td>832</td>\n",
       "      <td>-123</td>\n",
       "      <td>L2</td>\n",
       "      <td>4-6</td>\n",
       "    </tr>\n",
       "    <tr>\n",
       "      <th>giants</th>\n",
       "      <td>SFSan Francisco Giants</td>\n",
       "      <td>73</td>\n",
       "      <td>89</td>\n",
       "      <td>0.451</td>\n",
       "      <td>35</td>\n",
       "      <td>42-39</td>\n",
       "      <td>31-50</td>\n",
       "      <td>603</td>\n",
       "      <td>699</td>\n",
       "      <td>-96</td>\n",
       "      <td>L4</td>\n",
       "      <td>1-9</td>\n",
       "    </tr>\n",
       "    <tr>\n",
       "      <th>rangers</th>\n",
       "      <td>TEXTexas Rangers</td>\n",
       "      <td>67</td>\n",
       "      <td>95</td>\n",
       "      <td>0.414</td>\n",
       "      <td>41</td>\n",
       "      <td>34-47</td>\n",
       "      <td>33-48</td>\n",
       "      <td>737</td>\n",
       "      <td>848</td>\n",
       "      <td>-111</td>\n",
       "      <td>L3</td>\n",
       "      <td>3-7</td>\n",
       "    </tr>\n",
       "    <tr>\n",
       "      <th>reds</th>\n",
       "      <td>CINCincinnati Reds</td>\n",
       "      <td>67</td>\n",
       "      <td>95</td>\n",
       "      <td>0.414</td>\n",
       "      <td>41</td>\n",
       "      <td>37-44</td>\n",
       "      <td>30-51</td>\n",
       "      <td>696</td>\n",
       "      <td>819</td>\n",
       "      <td>-123</td>\n",
       "      <td>L1</td>\n",
       "      <td>2-8</td>\n",
       "    </tr>\n",
       "    <tr>\n",
       "      <th>padres</th>\n",
       "      <td>SDSan Diego Padres</td>\n",
       "      <td>66</td>\n",
       "      <td>96</td>\n",
       "      <td>0.407</td>\n",
       "      <td>42</td>\n",
       "      <td>31-50</td>\n",
       "      <td>35-46</td>\n",
       "      <td>617</td>\n",
       "      <td>767</td>\n",
       "      <td>-150</td>\n",
       "      <td>W1</td>\n",
       "      <td>6-4</td>\n",
       "    </tr>\n",
       "    <tr>\n",
       "      <th>tigers</th>\n",
       "      <td>DETDetroit Tigers</td>\n",
       "      <td>64</td>\n",
       "      <td>98</td>\n",
       "      <td>0.395</td>\n",
       "      <td>44</td>\n",
       "      <td>38-43</td>\n",
       "      <td>26-55</td>\n",
       "      <td>630</td>\n",
       "      <td>796</td>\n",
       "      <td>-166</td>\n",
       "      <td>L5</td>\n",
       "      <td>3-7</td>\n",
       "    </tr>\n",
       "    <tr>\n",
       "      <th>marlins</th>\n",
       "      <td>MIAMiami Marlins</td>\n",
       "      <td>63</td>\n",
       "      <td>98</td>\n",
       "      <td>0.391</td>\n",
       "      <td>44.5</td>\n",
       "      <td>38-43</td>\n",
       "      <td>25-55</td>\n",
       "      <td>589</td>\n",
       "      <td>809</td>\n",
       "      <td>-220</td>\n",
       "      <td>L2</td>\n",
       "      <td>4-6</td>\n",
       "    </tr>\n",
       "    <tr>\n",
       "      <th>white sox</th>\n",
       "      <td>CHWChicago White Sox</td>\n",
       "      <td>62</td>\n",
       "      <td>100</td>\n",
       "      <td>0.383</td>\n",
       "      <td>46</td>\n",
       "      <td>30-51</td>\n",
       "      <td>32-49</td>\n",
       "      <td>656</td>\n",
       "      <td>848</td>\n",
       "      <td>-192</td>\n",
       "      <td>L5</td>\n",
       "      <td>2-8</td>\n",
       "    </tr>\n",
       "    <tr>\n",
       "      <th>royals</th>\n",
       "      <td>KCKansas City Royals</td>\n",
       "      <td>58</td>\n",
       "      <td>104</td>\n",
       "      <td>0.358</td>\n",
       "      <td>50</td>\n",
       "      <td>32-49</td>\n",
       "      <td>26-55</td>\n",
       "      <td>638</td>\n",
       "      <td>833</td>\n",
       "      <td>-195</td>\n",
       "      <td>L1</td>\n",
       "      <td>6-4</td>\n",
       "    </tr>\n",
       "    <tr>\n",
       "      <th>orioles</th>\n",
       "      <td>BALBaltimore Orioles</td>\n",
       "      <td>47</td>\n",
       "      <td>115</td>\n",
       "      <td>0.290</td>\n",
       "      <td>61</td>\n",
       "      <td>28-53</td>\n",
       "      <td>19-62</td>\n",
       "      <td>622</td>\n",
       "      <td>892</td>\n",
       "      <td>-270</td>\n",
       "      <td>W1</td>\n",
       "      <td>3-7</td>\n",
       "    </tr>\n",
       "  </tbody>\n",
       "</table>\n",
       "</div>"
      ],
      "text/plain": [
       "                                    Team    W    L    PCT    GB   HOME   AWAY  \\\n",
       "team_index                                                                      \n",
       "red sox            * --BOSBoston Red Sox  108   54  0.667     -  57-24  51-30   \n",
       "astros             x --HOUHouston Astros  103   59  0.636     5  46-35  57-24   \n",
       "yankees          y --NYYNew York Yankees  100   62  0.617     8  53-28  47-34   \n",
       "athletics       y --OAKOakland Athletics   97   65  0.599    11  50-31  47-34   \n",
       "brewers         * --MILMilwaukee Brewers   96   67  0.589  12.5  51-30  45-37   \n",
       "cubs                 y --CHCChicago Cubs   95   68  0.583  13.5  51-31  44-37   \n",
       "dodgers       x --LADLos Angeles Dodgers   92   71  0.564  16.5  45-37  47-34   \n",
       "indians         x --CLECleveland Indians   91   71  0.562    17  49-32  42-39   \n",
       "rockies          y --COLColorado Rockies   91   72  0.558  17.5  47-34  44-38   \n",
       "braves             x --ATLAtlanta Braves   90   72  0.556    18  43-38  47-34   \n",
       "rays                    TBTampa Bay Rays   90   72  0.556    18  51-30  39-42   \n",
       "mariners             SEASeattle Mariners   89   73  0.549    19  45-36  44-37   \n",
       "cardinals         STLSt. Louis Cardinals   88   74  0.543    20  43-38  45-36   \n",
       "pirates            PITPittsburgh Pirates   82   79  0.509  25.5  44-36  38-43   \n",
       "nationals        WSHWashington Nationals   82   80  0.506    26  41-40  41-40   \n",
       "diamondbacks     ARIArizona Diamondbacks   82   80  0.506    26  40-41  42-39   \n",
       "angels             LAALos Angeles Angels   80   82  0.494    28  42-39  38-43   \n",
       "phillies        PHIPhiladelphia Phillies   80   82  0.494    28  49-32  31-50   \n",
       "twins                 MINMinnesota Twins   78   84  0.481    30  49-32  29-52   \n",
       "mets                    NYMNew York Mets   77   85  0.475    31  37-44  40-41   \n",
       "jays                TORToronto Blue Jays   73   89  0.451    35  40-41  33-48   \n",
       "giants            SFSan Francisco Giants   73   89  0.451    35  42-39  31-50   \n",
       "rangers                 TEXTexas Rangers   67   95  0.414    41  34-47  33-48   \n",
       "reds                  CINCincinnati Reds   67   95  0.414    41  37-44  30-51   \n",
       "padres                SDSan Diego Padres   66   96  0.407    42  31-50  35-46   \n",
       "tigers                 DETDetroit Tigers   64   98  0.395    44  38-43  26-55   \n",
       "marlins                 MIAMiami Marlins   63   98  0.391  44.5  38-43  25-55   \n",
       "white sox           CHWChicago White Sox   62  100  0.383    46  30-51  32-49   \n",
       "royals              KCKansas City Royals   58  104  0.358    50  32-49  26-55   \n",
       "orioles             BALBaltimore Orioles   47  115  0.290    61  28-53  19-62   \n",
       "\n",
       "               RS   RA  DIFF STRK  L10  \n",
       "team_index                              \n",
       "red sox       876  647   229   W1  5-5  \n",
       "astros        797  534   263   L1  8-2  \n",
       "yankees       851  669   182   L1  7-3  \n",
       "athletics     813  674   139   L1  6-4  \n",
       "brewers       754  659    95   W8  9-1  \n",
       "cubs          761  645   116   L1  6-4  \n",
       "dodgers       804  610   194   W4  7-3  \n",
       "indians       818  648   170   W1  6-4  \n",
       "rockies       780  745    35   L1  8-2  \n",
       "braves        759  657   102   L2  6-4  \n",
       "rays          716  646    70   W2  5-5  \n",
       "mariners      677  711   -34   W3  5-5  \n",
       "cardinals     759  691    68   L1  4-6  \n",
       "pirates       692  693    -1   W1  5-5  \n",
       "nationals     771  682    89   L1  5-5  \n",
       "diamondbacks  693  644    49   L1  4-6  \n",
       "angels        721  722    -1   W1  5-5  \n",
       "phillies      677  728   -51   W2  2-8  \n",
       "twins         738  775   -37   W6  7-3  \n",
       "mets          676  707   -31   W2  7-3  \n",
       "jays          709  832  -123   L2  4-6  \n",
       "giants        603  699   -96   L4  1-9  \n",
       "rangers       737  848  -111   L3  3-7  \n",
       "reds          696  819  -123   L1  2-8  \n",
       "padres        617  767  -150   W1  6-4  \n",
       "tigers        630  796  -166   L5  3-7  \n",
       "marlins       589  809  -220   L2  4-6  \n",
       "white sox     656  848  -192   L5  2-8  \n",
       "royals        638  833  -195   L1  6-4  \n",
       "orioles       622  892  -270   W1  3-7  "
      ]
     },
     "execution_count": 734,
     "metadata": {},
     "output_type": "execute_result"
    }
   ],
   "source": [
    "mlb_standings"
   ]
  },
  {
   "cell_type": "code",
   "execution_count": 970,
   "metadata": {},
   "outputs": [],
   "source": [
    "reindex_league(MLB)"
   ]
  },
  {
   "cell_type": "code",
   "execution_count": 973,
   "metadata": {},
   "outputs": [],
   "source": [
    "MLB = MLB.join(mlb_standings.PCT)"
   ]
  },
  {
   "cell_type": "markdown",
   "metadata": {},
   "source": [
    "## NBA"
   ]
  },
  {
   "cell_type": "code",
   "execution_count": 735,
   "metadata": {},
   "outputs": [],
   "source": [
    "nba_standings = get_ESPN_standings('https://www.espn.com/nba/standings/_/season/2018/group/league')"
   ]
  },
  {
   "cell_type": "code",
   "execution_count": 736,
   "metadata": {
    "scrolled": true
   },
   "outputs": [
    {
     "data": {
      "text/html": [
       "<div>\n",
       "<style scoped>\n",
       "    .dataframe tbody tr th:only-of-type {\n",
       "        vertical-align: middle;\n",
       "    }\n",
       "\n",
       "    .dataframe tbody tr th {\n",
       "        vertical-align: top;\n",
       "    }\n",
       "\n",
       "    .dataframe thead th {\n",
       "        text-align: right;\n",
       "    }\n",
       "</style>\n",
       "<table border=\"1\" class=\"dataframe\">\n",
       "  <thead>\n",
       "    <tr style=\"text-align: right;\">\n",
       "      <th></th>\n",
       "      <th>Team</th>\n",
       "      <th>W</th>\n",
       "      <th>L</th>\n",
       "      <th>PCT</th>\n",
       "      <th>GB</th>\n",
       "      <th>HOME</th>\n",
       "      <th>AWAY</th>\n",
       "      <th>DIV</th>\n",
       "      <th>CONF</th>\n",
       "      <th>PPG</th>\n",
       "      <th>OPP PPG</th>\n",
       "      <th>DIFF</th>\n",
       "      <th>STRK</th>\n",
       "      <th>L10</th>\n",
       "    </tr>\n",
       "    <tr>\n",
       "      <th>team_index</th>\n",
       "      <th></th>\n",
       "      <th></th>\n",
       "      <th></th>\n",
       "      <th></th>\n",
       "      <th></th>\n",
       "      <th></th>\n",
       "      <th></th>\n",
       "      <th></th>\n",
       "      <th></th>\n",
       "      <th></th>\n",
       "      <th></th>\n",
       "      <th></th>\n",
       "      <th></th>\n",
       "      <th></th>\n",
       "    </tr>\n",
       "  </thead>\n",
       "  <tbody>\n",
       "    <tr>\n",
       "      <th>rockets</th>\n",
       "      <td>* --HOUHouston Rockets</td>\n",
       "      <td>65</td>\n",
       "      <td>17</td>\n",
       "      <td>0.793</td>\n",
       "      <td>-</td>\n",
       "      <td>34-7</td>\n",
       "      <td>31-10</td>\n",
       "      <td>12-4</td>\n",
       "      <td>41-11</td>\n",
       "      <td>112.4</td>\n",
       "      <td>103.9</td>\n",
       "      <td>8.5</td>\n",
       "      <td>L1</td>\n",
       "      <td>7-3</td>\n",
       "    </tr>\n",
       "    <tr>\n",
       "      <th>raptors</th>\n",
       "      <td>z --TORToronto Raptors</td>\n",
       "      <td>59</td>\n",
       "      <td>23</td>\n",
       "      <td>0.720</td>\n",
       "      <td>6</td>\n",
       "      <td>34-7</td>\n",
       "      <td>25-16</td>\n",
       "      <td>12-4</td>\n",
       "      <td>40-12</td>\n",
       "      <td>111.7</td>\n",
       "      <td>103.9</td>\n",
       "      <td>7.8</td>\n",
       "      <td>L1</td>\n",
       "      <td>6-4</td>\n",
       "    </tr>\n",
       "    <tr>\n",
       "      <th>warriors</th>\n",
       "      <td>y --GSGolden State Warriors</td>\n",
       "      <td>58</td>\n",
       "      <td>24</td>\n",
       "      <td>0.707</td>\n",
       "      <td>7</td>\n",
       "      <td>29-12</td>\n",
       "      <td>29-12</td>\n",
       "      <td>13-3</td>\n",
       "      <td>34-18</td>\n",
       "      <td>113.5</td>\n",
       "      <td>107.5</td>\n",
       "      <td>6.0</td>\n",
       "      <td>L1</td>\n",
       "      <td>4-6</td>\n",
       "    </tr>\n",
       "    <tr>\n",
       "      <th>celtics</th>\n",
       "      <td>x --BOSBoston Celtics</td>\n",
       "      <td>55</td>\n",
       "      <td>27</td>\n",
       "      <td>0.671</td>\n",
       "      <td>10</td>\n",
       "      <td>27-14</td>\n",
       "      <td>28-13</td>\n",
       "      <td>12-4</td>\n",
       "      <td>33-19</td>\n",
       "      <td>104.0</td>\n",
       "      <td>100.4</td>\n",
       "      <td>3.6</td>\n",
       "      <td>W1</td>\n",
       "      <td>6-4</td>\n",
       "    </tr>\n",
       "    <tr>\n",
       "      <th>76ers</th>\n",
       "      <td>x --PHIPhiladelphia 76ers</td>\n",
       "      <td>52</td>\n",
       "      <td>30</td>\n",
       "      <td>0.634</td>\n",
       "      <td>13</td>\n",
       "      <td>30-11</td>\n",
       "      <td>22-19</td>\n",
       "      <td>9-7</td>\n",
       "      <td>34-18</td>\n",
       "      <td>109.8</td>\n",
       "      <td>105.3</td>\n",
       "      <td>4.5</td>\n",
       "      <td>W16</td>\n",
       "      <td>10-0</td>\n",
       "    </tr>\n",
       "    <tr>\n",
       "      <th>cavaliers</th>\n",
       "      <td>y --CLECleveland Cavaliers</td>\n",
       "      <td>50</td>\n",
       "      <td>32</td>\n",
       "      <td>0.610</td>\n",
       "      <td>15</td>\n",
       "      <td>29-12</td>\n",
       "      <td>21-20</td>\n",
       "      <td>11-5</td>\n",
       "      <td>35-17</td>\n",
       "      <td>110.9</td>\n",
       "      <td>109.9</td>\n",
       "      <td>1.0</td>\n",
       "      <td>L1</td>\n",
       "      <td>7-3</td>\n",
       "    </tr>\n",
       "    <tr>\n",
       "      <th>blazers</th>\n",
       "      <td>y --PORPortland Trail Blazers</td>\n",
       "      <td>49</td>\n",
       "      <td>33</td>\n",
       "      <td>0.598</td>\n",
       "      <td>16</td>\n",
       "      <td>28-13</td>\n",
       "      <td>21-20</td>\n",
       "      <td>9-7</td>\n",
       "      <td>31-21</td>\n",
       "      <td>105.6</td>\n",
       "      <td>103.0</td>\n",
       "      <td>2.6</td>\n",
       "      <td>W1</td>\n",
       "      <td>5-5</td>\n",
       "    </tr>\n",
       "    <tr>\n",
       "      <th>thunder</th>\n",
       "      <td>x --OKCOklahoma City Thunder</td>\n",
       "      <td>48</td>\n",
       "      <td>34</td>\n",
       "      <td>0.585</td>\n",
       "      <td>17</td>\n",
       "      <td>27-14</td>\n",
       "      <td>21-20</td>\n",
       "      <td>5-11</td>\n",
       "      <td>28-24</td>\n",
       "      <td>107.9</td>\n",
       "      <td>104.4</td>\n",
       "      <td>3.5</td>\n",
       "      <td>W3</td>\n",
       "      <td>5-5</td>\n",
       "    </tr>\n",
       "    <tr>\n",
       "      <th>jazz</th>\n",
       "      <td>x --UTAHUtah Jazz</td>\n",
       "      <td>48</td>\n",
       "      <td>34</td>\n",
       "      <td>0.585</td>\n",
       "      <td>17</td>\n",
       "      <td>28-13</td>\n",
       "      <td>20-21</td>\n",
       "      <td>7-9</td>\n",
       "      <td>34-18</td>\n",
       "      <td>104.1</td>\n",
       "      <td>99.8</td>\n",
       "      <td>4.3</td>\n",
       "      <td>L1</td>\n",
       "      <td>7-3</td>\n",
       "    </tr>\n",
       "    <tr>\n",
       "      <th>pacers</th>\n",
       "      <td>x --INDIndiana Pacers</td>\n",
       "      <td>48</td>\n",
       "      <td>34</td>\n",
       "      <td>0.585</td>\n",
       "      <td>17</td>\n",
       "      <td>27-14</td>\n",
       "      <td>21-20</td>\n",
       "      <td>10-6</td>\n",
       "      <td>32-20</td>\n",
       "      <td>105.6</td>\n",
       "      <td>104.2</td>\n",
       "      <td>1.4</td>\n",
       "      <td>L1</td>\n",
       "      <td>7-3</td>\n",
       "    </tr>\n",
       "    <tr>\n",
       "      <th>pelicans</th>\n",
       "      <td>x --NONew Orleans Pelicans</td>\n",
       "      <td>48</td>\n",
       "      <td>34</td>\n",
       "      <td>0.585</td>\n",
       "      <td>17</td>\n",
       "      <td>24-17</td>\n",
       "      <td>24-17</td>\n",
       "      <td>9-7</td>\n",
       "      <td>27-25</td>\n",
       "      <td>111.7</td>\n",
       "      <td>110.4</td>\n",
       "      <td>1.3</td>\n",
       "      <td>W5</td>\n",
       "      <td>6-4</td>\n",
       "    </tr>\n",
       "    <tr>\n",
       "      <th>spurs</th>\n",
       "      <td>x --SASan Antonio Spurs</td>\n",
       "      <td>47</td>\n",
       "      <td>35</td>\n",
       "      <td>0.573</td>\n",
       "      <td>18</td>\n",
       "      <td>33-8</td>\n",
       "      <td>14-27</td>\n",
       "      <td>9-7</td>\n",
       "      <td>29-23</td>\n",
       "      <td>102.7</td>\n",
       "      <td>99.8</td>\n",
       "      <td>2.9</td>\n",
       "      <td>L1</td>\n",
       "      <td>5-5</td>\n",
       "    </tr>\n",
       "    <tr>\n",
       "      <th>timberwolves</th>\n",
       "      <td>x --MINMinnesota Timberwolves</td>\n",
       "      <td>47</td>\n",
       "      <td>35</td>\n",
       "      <td>0.573</td>\n",
       "      <td>18</td>\n",
       "      <td>30-11</td>\n",
       "      <td>17-24</td>\n",
       "      <td>10-6</td>\n",
       "      <td>34-18</td>\n",
       "      <td>109.5</td>\n",
       "      <td>107.3</td>\n",
       "      <td>2.2</td>\n",
       "      <td>W3</td>\n",
       "      <td>6-4</td>\n",
       "    </tr>\n",
       "    <tr>\n",
       "      <th>nuggets</th>\n",
       "      <td>e --DENDenver Nuggets</td>\n",
       "      <td>46</td>\n",
       "      <td>36</td>\n",
       "      <td>0.561</td>\n",
       "      <td>19</td>\n",
       "      <td>31-10</td>\n",
       "      <td>15-26</td>\n",
       "      <td>9-7</td>\n",
       "      <td>28-24</td>\n",
       "      <td>110.0</td>\n",
       "      <td>108.5</td>\n",
       "      <td>1.5</td>\n",
       "      <td>L1</td>\n",
       "      <td>7-3</td>\n",
       "    </tr>\n",
       "    <tr>\n",
       "      <th>heat</th>\n",
       "      <td>y --MIAMiami Heat</td>\n",
       "      <td>44</td>\n",
       "      <td>38</td>\n",
       "      <td>0.537</td>\n",
       "      <td>21</td>\n",
       "      <td>26-15</td>\n",
       "      <td>18-23</td>\n",
       "      <td>11-5</td>\n",
       "      <td>31-21</td>\n",
       "      <td>103.4</td>\n",
       "      <td>102.9</td>\n",
       "      <td>0.5</td>\n",
       "      <td>W1</td>\n",
       "      <td>5-5</td>\n",
       "    </tr>\n",
       "    <tr>\n",
       "      <th>bucks</th>\n",
       "      <td>x --MILMilwaukee Bucks</td>\n",
       "      <td>44</td>\n",
       "      <td>38</td>\n",
       "      <td>0.537</td>\n",
       "      <td>21</td>\n",
       "      <td>25-16</td>\n",
       "      <td>19-22</td>\n",
       "      <td>6-10</td>\n",
       "      <td>27-25</td>\n",
       "      <td>106.5</td>\n",
       "      <td>106.8</td>\n",
       "      <td>-0.3</td>\n",
       "      <td>L1</td>\n",
       "      <td>6-4</td>\n",
       "    </tr>\n",
       "    <tr>\n",
       "      <th>wizards</th>\n",
       "      <td>x --WSHWashington Wizards</td>\n",
       "      <td>43</td>\n",
       "      <td>39</td>\n",
       "      <td>0.524</td>\n",
       "      <td>22</td>\n",
       "      <td>23-18</td>\n",
       "      <td>20-21</td>\n",
       "      <td>8-8</td>\n",
       "      <td>28-24</td>\n",
       "      <td>106.6</td>\n",
       "      <td>106.0</td>\n",
       "      <td>0.6</td>\n",
       "      <td>L1</td>\n",
       "      <td>3-7</td>\n",
       "    </tr>\n",
       "    <tr>\n",
       "      <th>clippers</th>\n",
       "      <td>e --LACLA Clippers</td>\n",
       "      <td>42</td>\n",
       "      <td>40</td>\n",
       "      <td>0.512</td>\n",
       "      <td>23</td>\n",
       "      <td>22-19</td>\n",
       "      <td>20-21</td>\n",
       "      <td>12-4</td>\n",
       "      <td>24-28</td>\n",
       "      <td>109.0</td>\n",
       "      <td>109.0</td>\n",
       "      <td>0.0</td>\n",
       "      <td>L4</td>\n",
       "      <td>4-6</td>\n",
       "    </tr>\n",
       "    <tr>\n",
       "      <th>pistons</th>\n",
       "      <td>e --DETDetroit Pistons</td>\n",
       "      <td>39</td>\n",
       "      <td>43</td>\n",
       "      <td>0.476</td>\n",
       "      <td>26</td>\n",
       "      <td>25-16</td>\n",
       "      <td>14-27</td>\n",
       "      <td>9-7</td>\n",
       "      <td>24-28</td>\n",
       "      <td>103.8</td>\n",
       "      <td>103.9</td>\n",
       "      <td>-0.1</td>\n",
       "      <td>W1</td>\n",
       "      <td>7-3</td>\n",
       "    </tr>\n",
       "    <tr>\n",
       "      <th>hornets</th>\n",
       "      <td>e --CHACharlotte Hornets</td>\n",
       "      <td>36</td>\n",
       "      <td>46</td>\n",
       "      <td>0.439</td>\n",
       "      <td>29</td>\n",
       "      <td>21-20</td>\n",
       "      <td>15-26</td>\n",
       "      <td>11-5</td>\n",
       "      <td>22-30</td>\n",
       "      <td>108.2</td>\n",
       "      <td>108.0</td>\n",
       "      <td>0.2</td>\n",
       "      <td>W1</td>\n",
       "      <td>5-5</td>\n",
       "    </tr>\n",
       "    <tr>\n",
       "      <th>lakers</th>\n",
       "      <td>e --LALLos Angeles Lakers</td>\n",
       "      <td>35</td>\n",
       "      <td>47</td>\n",
       "      <td>0.427</td>\n",
       "      <td>30</td>\n",
       "      <td>20-21</td>\n",
       "      <td>15-26</td>\n",
       "      <td>6-10</td>\n",
       "      <td>19-33</td>\n",
       "      <td>108.1</td>\n",
       "      <td>109.6</td>\n",
       "      <td>-1.5</td>\n",
       "      <td>W1</td>\n",
       "      <td>3-7</td>\n",
       "    </tr>\n",
       "    <tr>\n",
       "      <th>knicks</th>\n",
       "      <td>e --NYNew York Knicks</td>\n",
       "      <td>29</td>\n",
       "      <td>53</td>\n",
       "      <td>0.354</td>\n",
       "      <td>36</td>\n",
       "      <td>19-22</td>\n",
       "      <td>10-31</td>\n",
       "      <td>6-10</td>\n",
       "      <td>17-35</td>\n",
       "      <td>104.5</td>\n",
       "      <td>108.0</td>\n",
       "      <td>-3.5</td>\n",
       "      <td>W1</td>\n",
       "      <td>3-7</td>\n",
       "    </tr>\n",
       "    <tr>\n",
       "      <th>nets</th>\n",
       "      <td>e --BKNBrooklyn Nets</td>\n",
       "      <td>28</td>\n",
       "      <td>54</td>\n",
       "      <td>0.341</td>\n",
       "      <td>37</td>\n",
       "      <td>15-26</td>\n",
       "      <td>13-28</td>\n",
       "      <td>1-15</td>\n",
       "      <td>19-33</td>\n",
       "      <td>106.6</td>\n",
       "      <td>110.3</td>\n",
       "      <td>-3.7</td>\n",
       "      <td>L1</td>\n",
       "      <td>5-5</td>\n",
       "    </tr>\n",
       "    <tr>\n",
       "      <th>kings</th>\n",
       "      <td>e --SACSacramento Kings</td>\n",
       "      <td>27</td>\n",
       "      <td>55</td>\n",
       "      <td>0.329</td>\n",
       "      <td>38</td>\n",
       "      <td>14-27</td>\n",
       "      <td>13-28</td>\n",
       "      <td>5-11</td>\n",
       "      <td>14-38</td>\n",
       "      <td>98.8</td>\n",
       "      <td>105.8</td>\n",
       "      <td>-7.0</td>\n",
       "      <td>W1</td>\n",
       "      <td>4-6</td>\n",
       "    </tr>\n",
       "    <tr>\n",
       "      <th>bulls</th>\n",
       "      <td>e --CHIChicago Bulls</td>\n",
       "      <td>27</td>\n",
       "      <td>55</td>\n",
       "      <td>0.329</td>\n",
       "      <td>38</td>\n",
       "      <td>17-24</td>\n",
       "      <td>10-31</td>\n",
       "      <td>4-12</td>\n",
       "      <td>21-31</td>\n",
       "      <td>102.9</td>\n",
       "      <td>110.0</td>\n",
       "      <td>-7.1</td>\n",
       "      <td>L4</td>\n",
       "      <td>3-7</td>\n",
       "    </tr>\n",
       "    <tr>\n",
       "      <th>magic</th>\n",
       "      <td>e --ORLOrlando Magic</td>\n",
       "      <td>25</td>\n",
       "      <td>57</td>\n",
       "      <td>0.305</td>\n",
       "      <td>40</td>\n",
       "      <td>17-24</td>\n",
       "      <td>8-33</td>\n",
       "      <td>5-11</td>\n",
       "      <td>15-37</td>\n",
       "      <td>103.4</td>\n",
       "      <td>108.2</td>\n",
       "      <td>-4.8</td>\n",
       "      <td>W1</td>\n",
       "      <td>4-6</td>\n",
       "    </tr>\n",
       "    <tr>\n",
       "      <th>mavericks</th>\n",
       "      <td>e --DALDallas Mavericks</td>\n",
       "      <td>24</td>\n",
       "      <td>58</td>\n",
       "      <td>0.293</td>\n",
       "      <td>41</td>\n",
       "      <td>15-26</td>\n",
       "      <td>9-32</td>\n",
       "      <td>5-11</td>\n",
       "      <td>14-38</td>\n",
       "      <td>102.3</td>\n",
       "      <td>105.4</td>\n",
       "      <td>-3.1</td>\n",
       "      <td>L4</td>\n",
       "      <td>2-8</td>\n",
       "    </tr>\n",
       "    <tr>\n",
       "      <th>hawks</th>\n",
       "      <td>e --ATLAtlanta Hawks</td>\n",
       "      <td>24</td>\n",
       "      <td>58</td>\n",
       "      <td>0.293</td>\n",
       "      <td>41</td>\n",
       "      <td>16-25</td>\n",
       "      <td>8-33</td>\n",
       "      <td>5-11</td>\n",
       "      <td>12-40</td>\n",
       "      <td>103.4</td>\n",
       "      <td>108.8</td>\n",
       "      <td>-5.4</td>\n",
       "      <td>L1</td>\n",
       "      <td>3-7</td>\n",
       "    </tr>\n",
       "    <tr>\n",
       "      <th>grizzlies</th>\n",
       "      <td>e --MEMMemphis Grizzlies</td>\n",
       "      <td>22</td>\n",
       "      <td>60</td>\n",
       "      <td>0.268</td>\n",
       "      <td>43</td>\n",
       "      <td>16-25</td>\n",
       "      <td>6-35</td>\n",
       "      <td>5-11</td>\n",
       "      <td>18-34</td>\n",
       "      <td>99.3</td>\n",
       "      <td>105.5</td>\n",
       "      <td>-6.2</td>\n",
       "      <td>L2</td>\n",
       "      <td>3-7</td>\n",
       "    </tr>\n",
       "    <tr>\n",
       "      <th>suns</th>\n",
       "      <td>e --PHXPhoenix Suns</td>\n",
       "      <td>21</td>\n",
       "      <td>61</td>\n",
       "      <td>0.256</td>\n",
       "      <td>44</td>\n",
       "      <td>10-31</td>\n",
       "      <td>11-30</td>\n",
       "      <td>4-12</td>\n",
       "      <td>15-37</td>\n",
       "      <td>103.9</td>\n",
       "      <td>113.3</td>\n",
       "      <td>-9.4</td>\n",
       "      <td>W1</td>\n",
       "      <td>2-8</td>\n",
       "    </tr>\n",
       "  </tbody>\n",
       "</table>\n",
       "</div>"
      ],
      "text/plain": [
       "                                       Team   W   L    PCT  GB   HOME   AWAY  \\\n",
       "team_index                                                                     \n",
       "rockets              * --HOUHouston Rockets  65  17  0.793   -   34-7  31-10   \n",
       "raptors              z --TORToronto Raptors  59  23  0.720   6   34-7  25-16   \n",
       "warriors        y --GSGolden State Warriors  58  24  0.707   7  29-12  29-12   \n",
       "celtics               x --BOSBoston Celtics  55  27  0.671  10  27-14  28-13   \n",
       "76ers             x --PHIPhiladelphia 76ers  52  30  0.634  13  30-11  22-19   \n",
       "cavaliers        y --CLECleveland Cavaliers  50  32  0.610  15  29-12  21-20   \n",
       "blazers       y --PORPortland Trail Blazers  49  33  0.598  16  28-13  21-20   \n",
       "thunder        x --OKCOklahoma City Thunder  48  34  0.585  17  27-14  21-20   \n",
       "jazz                      x --UTAHUtah Jazz  48  34  0.585  17  28-13  20-21   \n",
       "pacers                x --INDIndiana Pacers  48  34  0.585  17  27-14  21-20   \n",
       "pelicans         x --NONew Orleans Pelicans  48  34  0.585  17  24-17  24-17   \n",
       "spurs               x --SASan Antonio Spurs  47  35  0.573  18   33-8  14-27   \n",
       "timberwolves  x --MINMinnesota Timberwolves  47  35  0.573  18  30-11  17-24   \n",
       "nuggets               e --DENDenver Nuggets  46  36  0.561  19  31-10  15-26   \n",
       "heat                      y --MIAMiami Heat  44  38  0.537  21  26-15  18-23   \n",
       "bucks                x --MILMilwaukee Bucks  44  38  0.537  21  25-16  19-22   \n",
       "wizards           x --WSHWashington Wizards  43  39  0.524  22  23-18  20-21   \n",
       "clippers                 e --LACLA Clippers  42  40  0.512  23  22-19  20-21   \n",
       "pistons              e --DETDetroit Pistons  39  43  0.476  26  25-16  14-27   \n",
       "hornets            e --CHACharlotte Hornets  36  46  0.439  29  21-20  15-26   \n",
       "lakers            e --LALLos Angeles Lakers  35  47  0.427  30  20-21  15-26   \n",
       "knicks                e --NYNew York Knicks  29  53  0.354  36  19-22  10-31   \n",
       "nets                   e --BKNBrooklyn Nets  28  54  0.341  37  15-26  13-28   \n",
       "kings               e --SACSacramento Kings  27  55  0.329  38  14-27  13-28   \n",
       "bulls                  e --CHIChicago Bulls  27  55  0.329  38  17-24  10-31   \n",
       "magic                  e --ORLOrlando Magic  25  57  0.305  40  17-24   8-33   \n",
       "mavericks           e --DALDallas Mavericks  24  58  0.293  41  15-26   9-32   \n",
       "hawks                  e --ATLAtlanta Hawks  24  58  0.293  41  16-25   8-33   \n",
       "grizzlies          e --MEMMemphis Grizzlies  22  60  0.268  43  16-25   6-35   \n",
       "suns                    e --PHXPhoenix Suns  21  61  0.256  44  10-31  11-30   \n",
       "\n",
       "               DIV   CONF    PPG  OPP PPG  DIFF STRK   L10  \n",
       "team_index                                                  \n",
       "rockets       12-4  41-11  112.4    103.9   8.5   L1   7-3  \n",
       "raptors       12-4  40-12  111.7    103.9   7.8   L1   6-4  \n",
       "warriors      13-3  34-18  113.5    107.5   6.0   L1   4-6  \n",
       "celtics       12-4  33-19  104.0    100.4   3.6   W1   6-4  \n",
       "76ers          9-7  34-18  109.8    105.3   4.5  W16  10-0  \n",
       "cavaliers     11-5  35-17  110.9    109.9   1.0   L1   7-3  \n",
       "blazers        9-7  31-21  105.6    103.0   2.6   W1   5-5  \n",
       "thunder       5-11  28-24  107.9    104.4   3.5   W3   5-5  \n",
       "jazz           7-9  34-18  104.1     99.8   4.3   L1   7-3  \n",
       "pacers        10-6  32-20  105.6    104.2   1.4   L1   7-3  \n",
       "pelicans       9-7  27-25  111.7    110.4   1.3   W5   6-4  \n",
       "spurs          9-7  29-23  102.7     99.8   2.9   L1   5-5  \n",
       "timberwolves  10-6  34-18  109.5    107.3   2.2   W3   6-4  \n",
       "nuggets        9-7  28-24  110.0    108.5   1.5   L1   7-3  \n",
       "heat          11-5  31-21  103.4    102.9   0.5   W1   5-5  \n",
       "bucks         6-10  27-25  106.5    106.8  -0.3   L1   6-4  \n",
       "wizards        8-8  28-24  106.6    106.0   0.6   L1   3-7  \n",
       "clippers      12-4  24-28  109.0    109.0   0.0   L4   4-6  \n",
       "pistons        9-7  24-28  103.8    103.9  -0.1   W1   7-3  \n",
       "hornets       11-5  22-30  108.2    108.0   0.2   W1   5-5  \n",
       "lakers        6-10  19-33  108.1    109.6  -1.5   W1   3-7  \n",
       "knicks        6-10  17-35  104.5    108.0  -3.5   W1   3-7  \n",
       "nets          1-15  19-33  106.6    110.3  -3.7   L1   5-5  \n",
       "kings         5-11  14-38   98.8    105.8  -7.0   W1   4-6  \n",
       "bulls         4-12  21-31  102.9    110.0  -7.1   L4   3-7  \n",
       "magic         5-11  15-37  103.4    108.2  -4.8   W1   4-6  \n",
       "mavericks     5-11  14-38  102.3    105.4  -3.1   L4   2-8  \n",
       "hawks         5-11  12-40  103.4    108.8  -5.4   L1   3-7  \n",
       "grizzlies     5-11  18-34   99.3    105.5  -6.2   L2   3-7  \n",
       "suns          4-12  15-37  103.9    113.3  -9.4   W1   2-8  "
      ]
     },
     "execution_count": 736,
     "metadata": {},
     "output_type": "execute_result"
    }
   ],
   "source": [
    "nba_standings"
   ]
  },
  {
   "cell_type": "code",
   "execution_count": 976,
   "metadata": {},
   "outputs": [],
   "source": [
    "NBA = NBA.join(nba_standings.PCT)"
   ]
  },
  {
   "cell_type": "markdown",
   "metadata": {},
   "source": [
    "## NFL"
   ]
  },
  {
   "cell_type": "code",
   "execution_count": 737,
   "metadata": {},
   "outputs": [],
   "source": [
    "nfl_standings = get_ESPN_standings('https://www.espn.com/nfl/standings/_/season/2018/group/league')"
   ]
  },
  {
   "cell_type": "code",
   "execution_count": 738,
   "metadata": {
    "scrolled": true
   },
   "outputs": [
    {
     "data": {
      "text/html": [
       "<div>\n",
       "<style scoped>\n",
       "    .dataframe tbody tr th:only-of-type {\n",
       "        vertical-align: middle;\n",
       "    }\n",
       "\n",
       "    .dataframe tbody tr th {\n",
       "        vertical-align: top;\n",
       "    }\n",
       "\n",
       "    .dataframe thead th {\n",
       "        text-align: right;\n",
       "    }\n",
       "</style>\n",
       "<table border=\"1\" class=\"dataframe\">\n",
       "  <thead>\n",
       "    <tr style=\"text-align: right;\">\n",
       "      <th></th>\n",
       "      <th>Team</th>\n",
       "      <th>W</th>\n",
       "      <th>L</th>\n",
       "      <th>T</th>\n",
       "      <th>PCT</th>\n",
       "      <th>HOME</th>\n",
       "      <th>AWAY</th>\n",
       "      <th>DIV</th>\n",
       "      <th>CONF</th>\n",
       "      <th>PF</th>\n",
       "      <th>PA</th>\n",
       "      <th>DIFF</th>\n",
       "      <th>STRK</th>\n",
       "    </tr>\n",
       "    <tr>\n",
       "      <th>team_index</th>\n",
       "      <th></th>\n",
       "      <th></th>\n",
       "      <th></th>\n",
       "      <th></th>\n",
       "      <th></th>\n",
       "      <th></th>\n",
       "      <th></th>\n",
       "      <th></th>\n",
       "      <th></th>\n",
       "      <th></th>\n",
       "      <th></th>\n",
       "      <th></th>\n",
       "      <th></th>\n",
       "    </tr>\n",
       "  </thead>\n",
       "  <tbody>\n",
       "    <tr>\n",
       "      <th>saints</th>\n",
       "      <td>** --NONew Orleans Saints</td>\n",
       "      <td>13</td>\n",
       "      <td>3</td>\n",
       "      <td>0</td>\n",
       "      <td>0.813</td>\n",
       "      <td>6-2</td>\n",
       "      <td>7-1</td>\n",
       "      <td>4-2</td>\n",
       "      <td>9-3</td>\n",
       "      <td>504</td>\n",
       "      <td>353</td>\n",
       "      <td>151</td>\n",
       "      <td>L1</td>\n",
       "    </tr>\n",
       "    <tr>\n",
       "      <th>rams</th>\n",
       "      <td>* --LARLos Angeles Rams</td>\n",
       "      <td>13</td>\n",
       "      <td>3</td>\n",
       "      <td>0</td>\n",
       "      <td>0.813</td>\n",
       "      <td>7-1</td>\n",
       "      <td>6-2</td>\n",
       "      <td>6-0</td>\n",
       "      <td>9-3</td>\n",
       "      <td>527</td>\n",
       "      <td>384</td>\n",
       "      <td>143</td>\n",
       "      <td>W2</td>\n",
       "    </tr>\n",
       "    <tr>\n",
       "      <th>chiefs</th>\n",
       "      <td>** --KCKansas City Chiefs</td>\n",
       "      <td>12</td>\n",
       "      <td>4</td>\n",
       "      <td>0</td>\n",
       "      <td>0.750</td>\n",
       "      <td>7-1</td>\n",
       "      <td>5-3</td>\n",
       "      <td>5-1</td>\n",
       "      <td>10-2</td>\n",
       "      <td>565</td>\n",
       "      <td>421</td>\n",
       "      <td>144</td>\n",
       "      <td>W1</td>\n",
       "    </tr>\n",
       "    <tr>\n",
       "      <th>bears</th>\n",
       "      <td>z --CHIChicago Bears</td>\n",
       "      <td>12</td>\n",
       "      <td>4</td>\n",
       "      <td>0</td>\n",
       "      <td>0.750</td>\n",
       "      <td>7-1</td>\n",
       "      <td>5-3</td>\n",
       "      <td>5-1</td>\n",
       "      <td>10-2</td>\n",
       "      <td>421</td>\n",
       "      <td>283</td>\n",
       "      <td>138</td>\n",
       "      <td>W4</td>\n",
       "    </tr>\n",
       "    <tr>\n",
       "      <th>chargers</th>\n",
       "      <td>y --LACLos Angeles Chargers</td>\n",
       "      <td>12</td>\n",
       "      <td>4</td>\n",
       "      <td>0</td>\n",
       "      <td>0.750</td>\n",
       "      <td>5-3</td>\n",
       "      <td>7-1</td>\n",
       "      <td>4-2</td>\n",
       "      <td>9-3</td>\n",
       "      <td>428</td>\n",
       "      <td>329</td>\n",
       "      <td>99</td>\n",
       "      <td>W1</td>\n",
       "    </tr>\n",
       "    <tr>\n",
       "      <th>patriots</th>\n",
       "      <td>* --NENew England Patriots</td>\n",
       "      <td>11</td>\n",
       "      <td>5</td>\n",
       "      <td>0</td>\n",
       "      <td>0.688</td>\n",
       "      <td>8-0</td>\n",
       "      <td>3-5</td>\n",
       "      <td>5-1</td>\n",
       "      <td>8-4</td>\n",
       "      <td>436</td>\n",
       "      <td>325</td>\n",
       "      <td>111</td>\n",
       "      <td>W2</td>\n",
       "    </tr>\n",
       "    <tr>\n",
       "      <th>texans</th>\n",
       "      <td>z --HOUHouston Texans</td>\n",
       "      <td>11</td>\n",
       "      <td>5</td>\n",
       "      <td>0</td>\n",
       "      <td>0.688</td>\n",
       "      <td>6-2</td>\n",
       "      <td>5-3</td>\n",
       "      <td>4-2</td>\n",
       "      <td>9-3</td>\n",
       "      <td>402</td>\n",
       "      <td>316</td>\n",
       "      <td>86</td>\n",
       "      <td>W1</td>\n",
       "    </tr>\n",
       "    <tr>\n",
       "      <th>ravens</th>\n",
       "      <td>z --BALBaltimore Ravens</td>\n",
       "      <td>10</td>\n",
       "      <td>6</td>\n",
       "      <td>0</td>\n",
       "      <td>0.625</td>\n",
       "      <td>6-2</td>\n",
       "      <td>4-4</td>\n",
       "      <td>3-3</td>\n",
       "      <td>8-4</td>\n",
       "      <td>389</td>\n",
       "      <td>287</td>\n",
       "      <td>102</td>\n",
       "      <td>W3</td>\n",
       "    </tr>\n",
       "    <tr>\n",
       "      <th>cowboys</th>\n",
       "      <td>z --DALDallas Cowboys</td>\n",
       "      <td>10</td>\n",
       "      <td>6</td>\n",
       "      <td>0</td>\n",
       "      <td>0.625</td>\n",
       "      <td>7-1</td>\n",
       "      <td>3-5</td>\n",
       "      <td>5-1</td>\n",
       "      <td>9-3</td>\n",
       "      <td>339</td>\n",
       "      <td>324</td>\n",
       "      <td>15</td>\n",
       "      <td>W2</td>\n",
       "    </tr>\n",
       "    <tr>\n",
       "      <th>seahawks</th>\n",
       "      <td>y --SEASeattle Seahawks</td>\n",
       "      <td>10</td>\n",
       "      <td>6</td>\n",
       "      <td>0</td>\n",
       "      <td>0.625</td>\n",
       "      <td>6-2</td>\n",
       "      <td>4-4</td>\n",
       "      <td>3-3</td>\n",
       "      <td>8-4</td>\n",
       "      <td>428</td>\n",
       "      <td>347</td>\n",
       "      <td>81</td>\n",
       "      <td>W2</td>\n",
       "    </tr>\n",
       "    <tr>\n",
       "      <th>colts</th>\n",
       "      <td>y --INDIndianapolis Colts</td>\n",
       "      <td>10</td>\n",
       "      <td>6</td>\n",
       "      <td>0</td>\n",
       "      <td>0.625</td>\n",
       "      <td>6-2</td>\n",
       "      <td>4-4</td>\n",
       "      <td>4-2</td>\n",
       "      <td>7-5</td>\n",
       "      <td>433</td>\n",
       "      <td>344</td>\n",
       "      <td>89</td>\n",
       "      <td>W4</td>\n",
       "    </tr>\n",
       "    <tr>\n",
       "      <th>steelers</th>\n",
       "      <td>PITPittsburgh Steelers</td>\n",
       "      <td>9</td>\n",
       "      <td>6</td>\n",
       "      <td>1</td>\n",
       "      <td>0.594</td>\n",
       "      <td>5-3</td>\n",
       "      <td>4-3-1</td>\n",
       "      <td>4-1-1</td>\n",
       "      <td>6-5-1</td>\n",
       "      <td>428</td>\n",
       "      <td>360</td>\n",
       "      <td>68</td>\n",
       "      <td>W1</td>\n",
       "    </tr>\n",
       "    <tr>\n",
       "      <th>eagles</th>\n",
       "      <td>y --PHIPhiladelphia Eagles</td>\n",
       "      <td>9</td>\n",
       "      <td>7</td>\n",
       "      <td>0</td>\n",
       "      <td>0.563</td>\n",
       "      <td>5-3</td>\n",
       "      <td>4-4</td>\n",
       "      <td>4-2</td>\n",
       "      <td>6-6</td>\n",
       "      <td>367</td>\n",
       "      <td>348</td>\n",
       "      <td>19</td>\n",
       "      <td>W3</td>\n",
       "    </tr>\n",
       "    <tr>\n",
       "      <th>titans</th>\n",
       "      <td>TENTennessee Titans</td>\n",
       "      <td>9</td>\n",
       "      <td>7</td>\n",
       "      <td>0</td>\n",
       "      <td>0.563</td>\n",
       "      <td>6-2</td>\n",
       "      <td>3-5</td>\n",
       "      <td>3-3</td>\n",
       "      <td>5-7</td>\n",
       "      <td>310</td>\n",
       "      <td>303</td>\n",
       "      <td>7</td>\n",
       "      <td>L1</td>\n",
       "    </tr>\n",
       "    <tr>\n",
       "      <th>vikings</th>\n",
       "      <td>MINMinnesota Vikings</td>\n",
       "      <td>8</td>\n",
       "      <td>7</td>\n",
       "      <td>1</td>\n",
       "      <td>0.531</td>\n",
       "      <td>5-3</td>\n",
       "      <td>3-4-1</td>\n",
       "      <td>3-2-1</td>\n",
       "      <td>6-5-1</td>\n",
       "      <td>360</td>\n",
       "      <td>341</td>\n",
       "      <td>19</td>\n",
       "      <td>L1</td>\n",
       "    </tr>\n",
       "    <tr>\n",
       "      <th>browns</th>\n",
       "      <td>CLECleveland Browns</td>\n",
       "      <td>7</td>\n",
       "      <td>8</td>\n",
       "      <td>1</td>\n",
       "      <td>0.469</td>\n",
       "      <td>5-2-1</td>\n",
       "      <td>2-6</td>\n",
       "      <td>3-2-1</td>\n",
       "      <td>5-6-1</td>\n",
       "      <td>359</td>\n",
       "      <td>392</td>\n",
       "      <td>-33</td>\n",
       "      <td>L1</td>\n",
       "    </tr>\n",
       "    <tr>\n",
       "      <th>falcons</th>\n",
       "      <td>ATLAtlanta Falcons</td>\n",
       "      <td>7</td>\n",
       "      <td>9</td>\n",
       "      <td>0</td>\n",
       "      <td>0.438</td>\n",
       "      <td>4-4</td>\n",
       "      <td>3-5</td>\n",
       "      <td>4-2</td>\n",
       "      <td>7-5</td>\n",
       "      <td>414</td>\n",
       "      <td>423</td>\n",
       "      <td>-9</td>\n",
       "      <td>W3</td>\n",
       "    </tr>\n",
       "    <tr>\n",
       "      <th>redskins</th>\n",
       "      <td>WSHWashington Redskins</td>\n",
       "      <td>7</td>\n",
       "      <td>9</td>\n",
       "      <td>0</td>\n",
       "      <td>0.438</td>\n",
       "      <td>3-5</td>\n",
       "      <td>4-4</td>\n",
       "      <td>2-4</td>\n",
       "      <td>6-6</td>\n",
       "      <td>281</td>\n",
       "      <td>359</td>\n",
       "      <td>-78</td>\n",
       "      <td>L2</td>\n",
       "    </tr>\n",
       "    <tr>\n",
       "      <th>panthers</th>\n",
       "      <td>CARCarolina Panthers</td>\n",
       "      <td>7</td>\n",
       "      <td>9</td>\n",
       "      <td>0</td>\n",
       "      <td>0.438</td>\n",
       "      <td>5-3</td>\n",
       "      <td>2-6</td>\n",
       "      <td>2-4</td>\n",
       "      <td>5-7</td>\n",
       "      <td>376</td>\n",
       "      <td>382</td>\n",
       "      <td>-6</td>\n",
       "      <td>W1</td>\n",
       "    </tr>\n",
       "    <tr>\n",
       "      <th>dolphins</th>\n",
       "      <td>MIAMiami Dolphins</td>\n",
       "      <td>7</td>\n",
       "      <td>9</td>\n",
       "      <td>0</td>\n",
       "      <td>0.438</td>\n",
       "      <td>6-2</td>\n",
       "      <td>1-7</td>\n",
       "      <td>4-2</td>\n",
       "      <td>6-6</td>\n",
       "      <td>319</td>\n",
       "      <td>433</td>\n",
       "      <td>-114</td>\n",
       "      <td>L3</td>\n",
       "    </tr>\n",
       "    <tr>\n",
       "      <th>packers</th>\n",
       "      <td>GBGreen Bay Packers</td>\n",
       "      <td>6</td>\n",
       "      <td>9</td>\n",
       "      <td>1</td>\n",
       "      <td>0.406</td>\n",
       "      <td>5-2-1</td>\n",
       "      <td>1-7</td>\n",
       "      <td>1-4-1</td>\n",
       "      <td>3-8-1</td>\n",
       "      <td>376</td>\n",
       "      <td>400</td>\n",
       "      <td>-24</td>\n",
       "      <td>L1</td>\n",
       "    </tr>\n",
       "    <tr>\n",
       "      <th>broncos</th>\n",
       "      <td>DENDenver Broncos</td>\n",
       "      <td>6</td>\n",
       "      <td>10</td>\n",
       "      <td>0</td>\n",
       "      <td>0.375</td>\n",
       "      <td>3-5</td>\n",
       "      <td>3-5</td>\n",
       "      <td>2-4</td>\n",
       "      <td>4-8</td>\n",
       "      <td>329</td>\n",
       "      <td>349</td>\n",
       "      <td>-20</td>\n",
       "      <td>L4</td>\n",
       "    </tr>\n",
       "    <tr>\n",
       "      <th>lions</th>\n",
       "      <td>DETDetroit Lions</td>\n",
       "      <td>6</td>\n",
       "      <td>10</td>\n",
       "      <td>0</td>\n",
       "      <td>0.375</td>\n",
       "      <td>3-5</td>\n",
       "      <td>3-5</td>\n",
       "      <td>2-4</td>\n",
       "      <td>4-8</td>\n",
       "      <td>324</td>\n",
       "      <td>360</td>\n",
       "      <td>-36</td>\n",
       "      <td>W1</td>\n",
       "    </tr>\n",
       "    <tr>\n",
       "      <th>bengals</th>\n",
       "      <td>CINCincinnati Bengals</td>\n",
       "      <td>6</td>\n",
       "      <td>10</td>\n",
       "      <td>0</td>\n",
       "      <td>0.375</td>\n",
       "      <td>4-4</td>\n",
       "      <td>2-6</td>\n",
       "      <td>1-5</td>\n",
       "      <td>4-8</td>\n",
       "      <td>368</td>\n",
       "      <td>455</td>\n",
       "      <td>-87</td>\n",
       "      <td>L2</td>\n",
       "    </tr>\n",
       "    <tr>\n",
       "      <th>bills</th>\n",
       "      <td>BUFBuffalo Bills</td>\n",
       "      <td>6</td>\n",
       "      <td>10</td>\n",
       "      <td>0</td>\n",
       "      <td>0.375</td>\n",
       "      <td>4-4</td>\n",
       "      <td>2-6</td>\n",
       "      <td>2-4</td>\n",
       "      <td>4-8</td>\n",
       "      <td>269</td>\n",
       "      <td>374</td>\n",
       "      <td>-105</td>\n",
       "      <td>W1</td>\n",
       "    </tr>\n",
       "    <tr>\n",
       "      <th>giants</th>\n",
       "      <td>NYGNew York Giants</td>\n",
       "      <td>5</td>\n",
       "      <td>11</td>\n",
       "      <td>0</td>\n",
       "      <td>0.313</td>\n",
       "      <td>2-6</td>\n",
       "      <td>3-5</td>\n",
       "      <td>1-5</td>\n",
       "      <td>4-8</td>\n",
       "      <td>369</td>\n",
       "      <td>412</td>\n",
       "      <td>-43</td>\n",
       "      <td>L3</td>\n",
       "    </tr>\n",
       "    <tr>\n",
       "      <th>jaguars</th>\n",
       "      <td>JAXJacksonville Jaguars</td>\n",
       "      <td>5</td>\n",
       "      <td>11</td>\n",
       "      <td>0</td>\n",
       "      <td>0.313</td>\n",
       "      <td>3-5</td>\n",
       "      <td>2-6</td>\n",
       "      <td>1-5</td>\n",
       "      <td>4-8</td>\n",
       "      <td>245</td>\n",
       "      <td>316</td>\n",
       "      <td>-71</td>\n",
       "      <td>L1</td>\n",
       "    </tr>\n",
       "    <tr>\n",
       "      <th>buccaneers</th>\n",
       "      <td>TBTampa Bay Buccaneers</td>\n",
       "      <td>5</td>\n",
       "      <td>11</td>\n",
       "      <td>0</td>\n",
       "      <td>0.313</td>\n",
       "      <td>4-4</td>\n",
       "      <td>1-7</td>\n",
       "      <td>2-4</td>\n",
       "      <td>4-8</td>\n",
       "      <td>396</td>\n",
       "      <td>464</td>\n",
       "      <td>-68</td>\n",
       "      <td>L4</td>\n",
       "    </tr>\n",
       "    <tr>\n",
       "      <th>49ers</th>\n",
       "      <td>SFSan Francisco 49ers</td>\n",
       "      <td>4</td>\n",
       "      <td>12</td>\n",
       "      <td>0</td>\n",
       "      <td>0.250</td>\n",
       "      <td>4-4</td>\n",
       "      <td>0-8</td>\n",
       "      <td>1-5</td>\n",
       "      <td>2-10</td>\n",
       "      <td>342</td>\n",
       "      <td>435</td>\n",
       "      <td>-93</td>\n",
       "      <td>L2</td>\n",
       "    </tr>\n",
       "    <tr>\n",
       "      <th>jets</th>\n",
       "      <td>NYJNew York Jets</td>\n",
       "      <td>4</td>\n",
       "      <td>12</td>\n",
       "      <td>0</td>\n",
       "      <td>0.250</td>\n",
       "      <td>2-6</td>\n",
       "      <td>2-6</td>\n",
       "      <td>1-5</td>\n",
       "      <td>3-9</td>\n",
       "      <td>333</td>\n",
       "      <td>441</td>\n",
       "      <td>-108</td>\n",
       "      <td>L3</td>\n",
       "    </tr>\n",
       "    <tr>\n",
       "      <th>raiders</th>\n",
       "      <td>OAKOakland Raiders</td>\n",
       "      <td>4</td>\n",
       "      <td>12</td>\n",
       "      <td>0</td>\n",
       "      <td>0.250</td>\n",
       "      <td>3-5</td>\n",
       "      <td>1-7</td>\n",
       "      <td>1-5</td>\n",
       "      <td>3-9</td>\n",
       "      <td>290</td>\n",
       "      <td>467</td>\n",
       "      <td>-177</td>\n",
       "      <td>L1</td>\n",
       "    </tr>\n",
       "    <tr>\n",
       "      <th>cardinals</th>\n",
       "      <td>ARIArizona Cardinals</td>\n",
       "      <td>3</td>\n",
       "      <td>13</td>\n",
       "      <td>0</td>\n",
       "      <td>0.188</td>\n",
       "      <td>1-7</td>\n",
       "      <td>2-6</td>\n",
       "      <td>2-4</td>\n",
       "      <td>3-9</td>\n",
       "      <td>225</td>\n",
       "      <td>425</td>\n",
       "      <td>-200</td>\n",
       "      <td>L4</td>\n",
       "    </tr>\n",
       "  </tbody>\n",
       "</table>\n",
       "</div>"
      ],
      "text/plain": [
       "                                   Team   W   L  T    PCT   HOME   AWAY  \\\n",
       "team_index                                                                \n",
       "saints        ** --NONew Orleans Saints  13   3  0  0.813    6-2    7-1   \n",
       "rams            * --LARLos Angeles Rams  13   3  0  0.813    7-1    6-2   \n",
       "chiefs        ** --KCKansas City Chiefs  12   4  0  0.750    7-1    5-3   \n",
       "bears              z --CHIChicago Bears  12   4  0  0.750    7-1    5-3   \n",
       "chargers    y --LACLos Angeles Chargers  12   4  0  0.750    5-3    7-1   \n",
       "patriots     * --NENew England Patriots  11   5  0  0.688    8-0    3-5   \n",
       "texans            z --HOUHouston Texans  11   5  0  0.688    6-2    5-3   \n",
       "ravens          z --BALBaltimore Ravens  10   6  0  0.625    6-2    4-4   \n",
       "cowboys           z --DALDallas Cowboys  10   6  0  0.625    7-1    3-5   \n",
       "seahawks        y --SEASeattle Seahawks  10   6  0  0.625    6-2    4-4   \n",
       "colts         y --INDIndianapolis Colts  10   6  0  0.625    6-2    4-4   \n",
       "steelers         PITPittsburgh Steelers   9   6  1  0.594    5-3  4-3-1   \n",
       "eagles       y --PHIPhiladelphia Eagles   9   7  0  0.563    5-3    4-4   \n",
       "titans              TENTennessee Titans   9   7  0  0.563    6-2    3-5   \n",
       "vikings            MINMinnesota Vikings   8   7  1  0.531    5-3  3-4-1   \n",
       "browns              CLECleveland Browns   7   8  1  0.469  5-2-1    2-6   \n",
       "falcons              ATLAtlanta Falcons   7   9  0  0.438    4-4    3-5   \n",
       "redskins         WSHWashington Redskins   7   9  0  0.438    3-5    4-4   \n",
       "panthers           CARCarolina Panthers   7   9  0  0.438    5-3    2-6   \n",
       "dolphins              MIAMiami Dolphins   7   9  0  0.438    6-2    1-7   \n",
       "packers             GBGreen Bay Packers   6   9  1  0.406  5-2-1    1-7   \n",
       "broncos               DENDenver Broncos   6  10  0  0.375    3-5    3-5   \n",
       "lions                  DETDetroit Lions   6  10  0  0.375    3-5    3-5   \n",
       "bengals           CINCincinnati Bengals   6  10  0  0.375    4-4    2-6   \n",
       "bills                  BUFBuffalo Bills   6  10  0  0.375    4-4    2-6   \n",
       "giants               NYGNew York Giants   5  11  0  0.313    2-6    3-5   \n",
       "jaguars         JAXJacksonville Jaguars   5  11  0  0.313    3-5    2-6   \n",
       "buccaneers       TBTampa Bay Buccaneers   5  11  0  0.313    4-4    1-7   \n",
       "49ers             SFSan Francisco 49ers   4  12  0  0.250    4-4    0-8   \n",
       "jets                   NYJNew York Jets   4  12  0  0.250    2-6    2-6   \n",
       "raiders              OAKOakland Raiders   4  12  0  0.250    3-5    1-7   \n",
       "cardinals          ARIArizona Cardinals   3  13  0  0.188    1-7    2-6   \n",
       "\n",
       "              DIV   CONF   PF   PA  DIFF STRK  \n",
       "team_index                                     \n",
       "saints        4-2    9-3  504  353   151   L1  \n",
       "rams          6-0    9-3  527  384   143   W2  \n",
       "chiefs        5-1   10-2  565  421   144   W1  \n",
       "bears         5-1   10-2  421  283   138   W4  \n",
       "chargers      4-2    9-3  428  329    99   W1  \n",
       "patriots      5-1    8-4  436  325   111   W2  \n",
       "texans        4-2    9-3  402  316    86   W1  \n",
       "ravens        3-3    8-4  389  287   102   W3  \n",
       "cowboys       5-1    9-3  339  324    15   W2  \n",
       "seahawks      3-3    8-4  428  347    81   W2  \n",
       "colts         4-2    7-5  433  344    89   W4  \n",
       "steelers    4-1-1  6-5-1  428  360    68   W1  \n",
       "eagles        4-2    6-6  367  348    19   W3  \n",
       "titans        3-3    5-7  310  303     7   L1  \n",
       "vikings     3-2-1  6-5-1  360  341    19   L1  \n",
       "browns      3-2-1  5-6-1  359  392   -33   L1  \n",
       "falcons       4-2    7-5  414  423    -9   W3  \n",
       "redskins      2-4    6-6  281  359   -78   L2  \n",
       "panthers      2-4    5-7  376  382    -6   W1  \n",
       "dolphins      4-2    6-6  319  433  -114   L3  \n",
       "packers     1-4-1  3-8-1  376  400   -24   L1  \n",
       "broncos       2-4    4-8  329  349   -20   L4  \n",
       "lions         2-4    4-8  324  360   -36   W1  \n",
       "bengals       1-5    4-8  368  455   -87   L2  \n",
       "bills         2-4    4-8  269  374  -105   W1  \n",
       "giants        1-5    4-8  369  412   -43   L3  \n",
       "jaguars       1-5    4-8  245  316   -71   L1  \n",
       "buccaneers    2-4    4-8  396  464   -68   L4  \n",
       "49ers         1-5   2-10  342  435   -93   L2  \n",
       "jets          1-5    3-9  333  441  -108   L3  \n",
       "raiders       1-5    3-9  290  467  -177   L1  \n",
       "cardinals     2-4    3-9  225  425  -200   L4  "
      ]
     },
     "execution_count": 738,
     "metadata": {},
     "output_type": "execute_result"
    }
   ],
   "source": [
    "nfl_standings"
   ]
  },
  {
   "cell_type": "code",
   "execution_count": 978,
   "metadata": {},
   "outputs": [],
   "source": [
    "reindex_league(NFL)"
   ]
  },
  {
   "cell_type": "code",
   "execution_count": 981,
   "metadata": {},
   "outputs": [],
   "source": [
    "NFL = NFL.join(nfl_standings.PCT)"
   ]
  },
  {
   "cell_type": "code",
   "execution_count": null,
   "metadata": {},
   "outputs": [],
   "source": []
  },
  {
   "cell_type": "markdown",
   "metadata": {},
   "source": [
    "## NHL"
   ]
  },
  {
   "cell_type": "code",
   "execution_count": 739,
   "metadata": {},
   "outputs": [],
   "source": [
    "nhl_standings = get_ESPN_standings('https://www.espn.com/nhl/standings/_/sort/points/dir/desc/season/2018/group/league')"
   ]
  },
  {
   "cell_type": "code",
   "execution_count": 984,
   "metadata": {
    "scrolled": true
   },
   "outputs": [],
   "source": [
    "nhl_standings['PCT'] = (nhl_standings.PTS.astype(float)/82/2).round(3)"
   ]
  },
  {
   "cell_type": "code",
   "execution_count": 987,
   "metadata": {},
   "outputs": [],
   "source": [
    "reindex_league(NHL)"
   ]
  },
  {
   "cell_type": "code",
   "execution_count": 994,
   "metadata": {},
   "outputs": [],
   "source": [
    "NHL = NHL.join(nhl_standings.PCT)"
   ]
  },
  {
   "cell_type": "code",
   "execution_count": null,
   "metadata": {},
   "outputs": [],
   "source": []
  },
  {
   "cell_type": "markdown",
   "metadata": {},
   "source": [
    "## MLS"
   ]
  },
  {
   "cell_type": "code",
   "execution_count": 1027,
   "metadata": {},
   "outputs": [],
   "source": [
    "mls_standings = pd.read_html('https://www.espn.com/soccer/standings/_/league/USA.1/season/2018')"
   ]
  },
  {
   "cell_type": "code",
   "execution_count": 1028,
   "metadata": {},
   "outputs": [],
   "source": [
    "mls_standings[0].columns = ['Team']"
   ]
  },
  {
   "cell_type": "code",
   "execution_count": 1029,
   "metadata": {},
   "outputs": [],
   "source": [
    "mls_standings = mls_standings[0].join(mls_standings[1])"
   ]
  },
  {
   "cell_type": "code",
   "execution_count": 1031,
   "metadata": {},
   "outputs": [],
   "source": [
    "mls_standings = mls_standings.drop([0,12],axis=0)\n",
    "mls_standings = mls_standings.drop([4,5,6,7],axis=1)\n",
    "mls_standings.columns = ['Team','GP','W','D','L']"
   ]
  },
  {
   "cell_type": "code",
   "execution_count": 1032,
   "metadata": {},
   "outputs": [],
   "source": [
    "#Reindex\n",
    "trim = [3,4,4,3,4,4,4,3,4,5,5,4,4,5,4,4,4,3,4,4,5,5,4]\n",
    "team_index = []\n",
    "for i, team in enumerate(mls_standings.Team):\n",
    "    team_index.append(team[trim[i]:])\n",
    "mls_standings.index = team_index"
   ]
  },
  {
   "cell_type": "code",
   "execution_count": 1037,
   "metadata": {},
   "outputs": [],
   "source": [
    "mls_standings['PCT'] = ((mls_standings.W.astype(float)*2 + mls_standings.D.astype(float))/34/2).round(3)"
   ]
  },
  {
   "cell_type": "code",
   "execution_count": 1038,
   "metadata": {},
   "outputs": [],
   "source": [
    "MLS = MLS.sort_index()"
   ]
  },
  {
   "cell_type": "code",
   "execution_count": 1039,
   "metadata": {},
   "outputs": [],
   "source": [
    "mls_standings = mls_standings.sort_index()"
   ]
  },
  {
   "cell_type": "code",
   "execution_count": null,
   "metadata": {},
   "outputs": [],
   "source": [
    "MLS = MLS.drop(['FC Cincinnati'])"
   ]
  },
  {
   "cell_type": "code",
   "execution_count": 1043,
   "metadata": {},
   "outputs": [],
   "source": [
    "MLS.index = mls_standings.index"
   ]
  },
  {
   "cell_type": "code",
   "execution_count": 1046,
   "metadata": {
    "scrolled": true
   },
   "outputs": [],
   "source": [
    "MLS = MLS.join(mls_standings.PCT)"
   ]
  },
  {
   "cell_type": "code",
   "execution_count": null,
   "metadata": {},
   "outputs": [],
   "source": []
  },
  {
   "cell_type": "code",
   "execution_count": null,
   "metadata": {},
   "outputs": [],
   "source": []
  },
  {
   "cell_type": "markdown",
   "metadata": {},
   "source": [
    "# Add distance"
   ]
  },
  {
   "cell_type": "code",
   "execution_count": 1130,
   "metadata": {},
   "outputs": [],
   "source": [
    "def coord_as_floats(league_df):\n",
    "    league_df.Latitude = league_df.Latitude.astype(float)\n",
    "    league_df.Longitude = league_df.Longitude.astype(float)\n",
    "    league_df = league_df.drop(columns='Coordinates')"
   ]
  },
  {
   "cell_type": "code",
   "execution_count": 1063,
   "metadata": {},
   "outputs": [],
   "source": [
    "def dist_from_other_stadiums(loc, locations):\n",
    "    distances = []\n",
    "    for location in locations:\n",
    "        if location != loc:\n",
    "            dist = geopy.distance.distance(loc, location).mi\n",
    "            distances.append(dist)\n",
    "    return distances"
   ]
  },
  {
   "cell_type": "code",
   "execution_count": 1096,
   "metadata": {},
   "outputs": [],
   "source": [
    "def dist_closest_team(league_df):\n",
    "    distances = []\n",
    "    for i, team in enumerate(league_df.Team):\n",
    "        min_dist = min(\n",
    "            dist_from_other_stadiums(\n",
    "                (league_df.Latitude[i], league_df.Longitude[i]),\n",
    "                zip(league_df.Latitude, league_df.Longitude)))\n",
    "        distances.append(round(min_dist,1))\n",
    "    league_df['Dist_close_team_in_league'] = distances"
   ]
  },
  {
   "cell_type": "code",
   "execution_count": 1237,
   "metadata": {},
   "outputs": [],
   "source": [
    "def number_of_teams_in_range(league_df, range_=10):\n",
    "    teams_in_range = []\n",
    "    for i, team in enumerate(league_df.Team):\n",
    "        distances = dist_from_other_stadiums(\n",
    "            (league_df.Latitude[i], league_df.Longitude[i]),\n",
    "            zip(league_df.Latitude, league_df.Longitude))\n",
    "        count = 0\n",
    "        for distance in distances:\n",
    "            if distance <= range_:\n",
    "                count += 1\n",
    "        teams_in_range.append(count)\n",
    "    league_df['Teams_within_' + str(range_) + '_mi'] = teams_in_range"
   ]
  },
  {
   "cell_type": "code",
   "execution_count": null,
   "metadata": {},
   "outputs": [],
   "source": []
  },
  {
   "cell_type": "code",
   "execution_count": 1139,
   "metadata": {},
   "outputs": [],
   "source": [
    "dist_closest_team(MLB)\n",
    "dist_closest_team(NBA)\n",
    "dist_closest_team(NFL)\n",
    "dist_closest_team(NHL)\n",
    "dist_closest_team(MLS)"
   ]
  },
  {
   "cell_type": "code",
   "execution_count": null,
   "metadata": {},
   "outputs": [],
   "source": []
  },
  {
   "cell_type": "code",
   "execution_count": null,
   "metadata": {},
   "outputs": [],
   "source": []
  },
  {
   "cell_type": "markdown",
   "metadata": {},
   "source": [
    "# Combine leagues"
   ]
  },
  {
   "cell_type": "code",
   "execution_count": 1143,
   "metadata": {},
   "outputs": [],
   "source": [
    "MLB['Sport'] = 'Baseball'\n",
    "NBA['Sport'] = 'Basketball'\n",
    "NFL['Sport'] = 'Football'\n",
    "NHL['Sport'] = 'Hockey'\n",
    "MLS['Sport'] = 'Soccer'"
   ]
  },
  {
   "cell_type": "code",
   "execution_count": 1158,
   "metadata": {},
   "outputs": [],
   "source": [
    "MLS['Founded'] = MLS.Joined"
   ]
  },
  {
   "cell_type": "code",
   "execution_count": 1170,
   "metadata": {},
   "outputs": [],
   "source": [
    "NBA['City'] = NBA['City, State']\n",
    "MLS['City'] = MLS['City, State']"
   ]
  },
  {
   "cell_type": "code",
   "execution_count": 1202,
   "metadata": {},
   "outputs": [],
   "source": [
    "def add_venue(league_df):\n",
    "    try:\n",
    "        league_df['Venue'] = league_df.Stadium\n",
    "    except:\n",
    "        league_df['Venue'] = league_df.Arena"
   ]
  },
  {
   "cell_type": "code",
   "execution_count": 1206,
   "metadata": {},
   "outputs": [],
   "source": [
    "add_venue(MLB)\n",
    "add_venue(NBA)\n",
    "add_venue(NFL)\n",
    "add_venue(NHL)\n",
    "add_venue(MLS)"
   ]
  },
  {
   "cell_type": "code",
   "execution_count": 1475,
   "metadata": {},
   "outputs": [],
   "source": [
    "leagues = pd.concat([MLB,NBA,NFL,NHL,MLS],sort=False)"
   ]
  },
  {
   "cell_type": "code",
   "execution_count": 1476,
   "metadata": {},
   "outputs": [],
   "source": [
    "leagues = leagues.drop(columns=['Stadium','Coordinates','Joined','City, State','Arena'])"
   ]
  },
  {
   "cell_type": "code",
   "execution_count": null,
   "metadata": {},
   "outputs": [],
   "source": []
  },
  {
   "cell_type": "code",
   "execution_count": 1477,
   "metadata": {},
   "outputs": [],
   "source": [
    "number_of_teams_in_range(leagues, range_=1)"
   ]
  },
  {
   "cell_type": "code",
   "execution_count": 1478,
   "metadata": {},
   "outputs": [],
   "source": [
    "number_of_teams_in_range(leagues, range_=10)"
   ]
  },
  {
   "cell_type": "code",
   "execution_count": 1479,
   "metadata": {},
   "outputs": [],
   "source": [
    "number_of_teams_in_range(leagues, range_=25)"
   ]
  },
  {
   "cell_type": "code",
   "execution_count": 1480,
   "metadata": {},
   "outputs": [],
   "source": [
    "number_of_teams_in_range(leagues, range_=50)"
   ]
  },
  {
   "cell_type": "markdown",
   "metadata": {},
   "source": [
    "# Population"
   ]
  },
  {
   "cell_type": "markdown",
   "metadata": {},
   "source": [
    "I added population data for the cities of the stadiums. I had to find data for both the US and Canada. Some stadiums were located in suburbs that were not represented on the table. I set those to 50,000. That was the cut off in population for the cities listed."
   ]
  },
  {
   "cell_type": "code",
   "execution_count": 1382,
   "metadata": {},
   "outputs": [],
   "source": [
    "canpop = pd.read_html('https://en.wikipedia.org/wiki/List_of_the_100_largest_municipalities_in_Canada_by_population')"
   ]
  },
  {
   "cell_type": "code",
   "execution_count": 1383,
   "metadata": {},
   "outputs": [],
   "source": [
    "canpop = canpop[0]"
   ]
  },
  {
   "cell_type": "code",
   "execution_count": 1384,
   "metadata": {},
   "outputs": [],
   "source": [
    "canpop['City'] = canpop.Municipality+', '+canpop.Province"
   ]
  },
  {
   "cell_type": "code",
   "execution_count": 1385,
   "metadata": {},
   "outputs": [],
   "source": [
    "canpop.columns = [0,1,2,3,'Land_Area_km2',5,'pop2016',7,8,9,10,'City']"
   ]
  },
  {
   "cell_type": "code",
   "execution_count": 1386,
   "metadata": {},
   "outputs": [],
   "source": [
    "canpop['land_area'] = (canpop.Land_Area_km2/2.59).astype(int)"
   ]
  },
  {
   "cell_type": "code",
   "execution_count": 1387,
   "metadata": {},
   "outputs": [],
   "source": [
    "canpop['pop_dens'] = (canpop.pop2016 / canpop.land_area).astype(int)"
   ]
  },
  {
   "cell_type": "code",
   "execution_count": 1388,
   "metadata": {},
   "outputs": [],
   "source": [
    "canpop = canpop[['City','pop_dens','pop2016','land_area']]"
   ]
  },
  {
   "cell_type": "code",
   "execution_count": 1389,
   "metadata": {},
   "outputs": [],
   "source": [
    "canpop.index = canpop.City"
   ]
  },
  {
   "cell_type": "code",
   "execution_count": null,
   "metadata": {},
   "outputs": [],
   "source": []
  },
  {
   "cell_type": "code",
   "execution_count": 1425,
   "metadata": {},
   "outputs": [],
   "source": [
    "uspop = pd.read_html('https://www.governing.com/gov-data/population-density-land-area-cities-map.html')"
   ]
  },
  {
   "cell_type": "code",
   "execution_count": 1426,
   "metadata": {},
   "outputs": [],
   "source": [
    "uspop = uspop[0]"
   ]
  },
  {
   "cell_type": "code",
   "execution_count": 1427,
   "metadata": {},
   "outputs": [],
   "source": [
    "uspop.index = uspop.City"
   ]
  },
  {
   "cell_type": "code",
   "execution_count": 1428,
   "metadata": {},
   "outputs": [],
   "source": [
    "uspop.columns = ['City','pop_dens','pop2016','land_area']"
   ]
  },
  {
   "cell_type": "code",
   "execution_count": 1429,
   "metadata": {},
   "outputs": [],
   "source": [
    "uspop.loc['New York, New York', 'City'] = 'New York City, New York'"
   ]
  },
  {
   "cell_type": "code",
   "execution_count": 1430,
   "metadata": {},
   "outputs": [],
   "source": [
    "uspop.loc['St. Paul, Minnesota', 'City'] = 'Saint Paul, Minnesota'"
   ]
  },
  {
   "cell_type": "code",
   "execution_count": 1431,
   "metadata": {},
   "outputs": [],
   "source": [
    "uspop.loc['Washington, District of Columbia','City'] = 'Washington, D.C.'"
   ]
  },
  {
   "cell_type": "code",
   "execution_count": 1432,
   "metadata": {},
   "outputs": [],
   "source": [
    "uspop.index = uspop.City"
   ]
  },
  {
   "cell_type": "code",
   "execution_count": null,
   "metadata": {},
   "outputs": [],
   "source": []
  },
  {
   "cell_type": "code",
   "execution_count": 1433,
   "metadata": {},
   "outputs": [],
   "source": [
    "pop = pd.concat([uspop,canpop], sort=False)"
   ]
  },
  {
   "cell_type": "code",
   "execution_count": null,
   "metadata": {},
   "outputs": [],
   "source": []
  },
  {
   "cell_type": "code",
   "execution_count": 1481,
   "metadata": {},
   "outputs": [],
   "source": [
    "leagues.index = leagues.City"
   ]
  },
  {
   "cell_type": "code",
   "execution_count": 1482,
   "metadata": {},
   "outputs": [],
   "source": [
    "leagues = leagues.join(pop.pop2016)"
   ]
  },
  {
   "cell_type": "code",
   "execution_count": 1500,
   "metadata": {},
   "outputs": [
    {
     "data": {
      "text/plain": [
       "False    146\n",
       "Name: Latitude, dtype: int64"
      ]
     },
     "execution_count": 1500,
     "metadata": {},
     "output_type": "execute_result"
    }
   ],
   "source": [
    "leagues.isna().value_counts()"
   ]
  },
  {
   "cell_type": "code",
   "execution_count": 1504,
   "metadata": {},
   "outputs": [],
   "source": [
    "# Source for population data doesn't record cities less than 50,000\n",
    "leagues = leagues.fillna(50000)"
   ]
  },
  {
   "cell_type": "markdown",
   "metadata": {},
   "source": [
    "## Add population density from nearest city"
   ]
  },
  {
   "cell_type": "markdown",
   "metadata": {},
   "source": [
    "There were some cities missing. I set them the the density of the city the team represented. I decided that it would best represent the desity of the metro areas that the teams played."
   ]
  },
  {
   "cell_type": "code",
   "execution_count": 1449,
   "metadata": {},
   "outputs": [],
   "source": [
    "leagues = leagues.join(pop.pop_dens)"
   ]
  },
  {
   "cell_type": "code",
   "execution_count": 1536,
   "metadata": {},
   "outputs": [],
   "source": [
    "leagues = leagues.drop(['pop_dens'],axis=1)"
   ]
  },
  {
   "cell_type": "code",
   "execution_count": 1537,
   "metadata": {},
   "outputs": [],
   "source": [
    "leagues = leagues.replace({\n",
    "    'City': {\n",
    "        'Bridgeview, Illinois': 'Chicago, Illinois',\n",
    "        'Chester, Pennsylvania': 'Philadelphia, Pennsylvania',\n",
    "        'East Rutherford, New Jersey': 'New York City, New York',\n",
    "        'Foxborough, Massachusetts': 'Boston, Massachusetts',\n",
    "        'Harrison, New Jersey': 'New York City, New York',\n",
    "        'Landover, Maryland': 'Washington, D.C.',\n",
    "        'Orchard Park, New York': 'Buffalo, New York',\n",
    "        'Paradise, Nevada': 'Las Vegas, Nevada'\n",
    "    }\n",
    "})"
   ]
  },
  {
   "cell_type": "code",
   "execution_count": 1538,
   "metadata": {},
   "outputs": [],
   "source": [
    "leagues.index = leagues.City"
   ]
  },
  {
   "cell_type": "code",
   "execution_count": 1539,
   "metadata": {},
   "outputs": [],
   "source": [
    "leagues = leagues.join(pop.pop_dens)"
   ]
  },
  {
   "cell_type": "code",
   "execution_count": 1540,
   "metadata": {},
   "outputs": [
    {
     "data": {
      "text/html": [
       "<div>\n",
       "<style scoped>\n",
       "    .dataframe tbody tr th:only-of-type {\n",
       "        vertical-align: middle;\n",
       "    }\n",
       "\n",
       "    .dataframe tbody tr th {\n",
       "        vertical-align: top;\n",
       "    }\n",
       "\n",
       "    .dataframe thead th {\n",
       "        text-align: right;\n",
       "    }\n",
       "</style>\n",
       "<table border=\"1\" class=\"dataframe\">\n",
       "  <thead>\n",
       "    <tr style=\"text-align: right;\">\n",
       "      <th></th>\n",
       "      <th>Team</th>\n",
       "      <th>City</th>\n",
       "      <th>Capacity</th>\n",
       "      <th>Founded</th>\n",
       "      <th>Latitude</th>\n",
       "      <th>Longitude</th>\n",
       "      <th>AvgAttendance</th>\n",
       "      <th>Games</th>\n",
       "      <th>PCT</th>\n",
       "      <th>Dist_close_team_in_league</th>\n",
       "      <th>Sport</th>\n",
       "      <th>Venue</th>\n",
       "      <th>Teams_within_1_mi</th>\n",
       "      <th>Teams_within_10_mi</th>\n",
       "      <th>Teams_within_25_mi</th>\n",
       "      <th>Teams_within_50_mi</th>\n",
       "      <th>pop2016</th>\n",
       "      <th>pop_dens</th>\n",
       "    </tr>\n",
       "    <tr>\n",
       "      <th>City</th>\n",
       "      <th></th>\n",
       "      <th></th>\n",
       "      <th></th>\n",
       "      <th></th>\n",
       "      <th></th>\n",
       "      <th></th>\n",
       "      <th></th>\n",
       "      <th></th>\n",
       "      <th></th>\n",
       "      <th></th>\n",
       "      <th></th>\n",
       "      <th></th>\n",
       "      <th></th>\n",
       "      <th></th>\n",
       "      <th></th>\n",
       "      <th></th>\n",
       "      <th></th>\n",
       "      <th></th>\n",
       "    </tr>\n",
       "  </thead>\n",
       "  <tbody>\n",
       "  </tbody>\n",
       "</table>\n",
       "</div>"
      ],
      "text/plain": [
       "Empty DataFrame\n",
       "Columns: [Team, City, Capacity, Founded, Latitude, Longitude, AvgAttendance, Games, PCT, Dist_close_team_in_league, Sport, Venue, Teams_within_1_mi, Teams_within_10_mi, Teams_within_25_mi, Teams_within_50_mi, pop2016, pop_dens]\n",
       "Index: []"
      ]
     },
     "execution_count": 1540,
     "metadata": {},
     "output_type": "execute_result"
    }
   ],
   "source": [
    "leagues[(leagues.pop_dens.isna())].head()"
   ]
  },
  {
   "cell_type": "code",
   "execution_count": 1564,
   "metadata": {},
   "outputs": [],
   "source": [
    "leagues.columns = [\n",
    "    'Team', 'City', 'Capacity', 'Founded', 'Latitude', 'Longitude',\n",
    "    'AvgAttendance', 'Games', '2018winPCT', 'Dist_close_team_in_league', 'Sport',\n",
    "    'Venue', 'Teams_within_1_mi', 'Teams_within_10_mi', 'Teams_within_25_mi',\n",
    "    'Teams_within_50_mi', 'pop2016', 'pop_dens'\n",
    "]"
   ]
  },
  {
   "cell_type": "code",
   "execution_count": 1565,
   "metadata": {
    "scrolled": true
   },
   "outputs": [
    {
     "data": {
      "text/html": [
       "<div>\n",
       "<style scoped>\n",
       "    .dataframe tbody tr th:only-of-type {\n",
       "        vertical-align: middle;\n",
       "    }\n",
       "\n",
       "    .dataframe tbody tr th {\n",
       "        vertical-align: top;\n",
       "    }\n",
       "\n",
       "    .dataframe thead th {\n",
       "        text-align: right;\n",
       "    }\n",
       "</style>\n",
       "<table border=\"1\" class=\"dataframe\">\n",
       "  <thead>\n",
       "    <tr style=\"text-align: right;\">\n",
       "      <th></th>\n",
       "      <th>Team</th>\n",
       "      <th>City</th>\n",
       "      <th>Capacity</th>\n",
       "      <th>Founded</th>\n",
       "      <th>Latitude</th>\n",
       "      <th>Longitude</th>\n",
       "      <th>AvgAttendance</th>\n",
       "      <th>Games</th>\n",
       "      <th>2018winPCT</th>\n",
       "      <th>Dist_close_team_in_league</th>\n",
       "      <th>Sport</th>\n",
       "      <th>Venue</th>\n",
       "      <th>Teams_within_1_mi</th>\n",
       "      <th>Teams_within_10_mi</th>\n",
       "      <th>Teams_within_25_mi</th>\n",
       "      <th>Teams_within_50_mi</th>\n",
       "      <th>pop2016</th>\n",
       "      <th>pop_dens</th>\n",
       "    </tr>\n",
       "  </thead>\n",
       "  <tbody>\n",
       "    <tr>\n",
       "      <th>0</th>\n",
       "      <td>Los Angeles Angels</td>\n",
       "      <td>Anaheim, California</td>\n",
       "      <td>45957</td>\n",
       "      <td>1961</td>\n",
       "      <td>33.800280</td>\n",
       "      <td>-117.882780</td>\n",
       "      <td>37321</td>\n",
       "      <td>81</td>\n",
       "      <td>0.494</td>\n",
       "      <td>27.9</td>\n",
       "      <td>Baseball</td>\n",
       "      <td>Angel Stadium</td>\n",
       "      <td>1</td>\n",
       "      <td>1</td>\n",
       "      <td>3</td>\n",
       "      <td>9</td>\n",
       "      <td>351043</td>\n",
       "      <td>7043</td>\n",
       "    </tr>\n",
       "    <tr>\n",
       "      <th>1</th>\n",
       "      <td>Anaheim Ducks</td>\n",
       "      <td>Anaheim, California</td>\n",
       "      <td>17174</td>\n",
       "      <td>1993</td>\n",
       "      <td>33.807832</td>\n",
       "      <td>-117.876534</td>\n",
       "      <td>16814</td>\n",
       "      <td>41</td>\n",
       "      <td>0.616</td>\n",
       "      <td>27.7</td>\n",
       "      <td>Hockey</td>\n",
       "      <td>Honda Center</td>\n",
       "      <td>1</td>\n",
       "      <td>1</td>\n",
       "      <td>3</td>\n",
       "      <td>9</td>\n",
       "      <td>351043</td>\n",
       "      <td>7043</td>\n",
       "    </tr>\n",
       "    <tr>\n",
       "      <th>2</th>\n",
       "      <td>Texas Rangers</td>\n",
       "      <td>Arlington, Texas</td>\n",
       "      <td>48114</td>\n",
       "      <td>1961</td>\n",
       "      <td>32.751390</td>\n",
       "      <td>-97.082780</td>\n",
       "      <td>26333</td>\n",
       "      <td>81</td>\n",
       "      <td>0.414</td>\n",
       "      <td>230.2</td>\n",
       "      <td>Baseball</td>\n",
       "      <td>Globe Life Field</td>\n",
       "      <td>1</td>\n",
       "      <td>1</td>\n",
       "      <td>3</td>\n",
       "      <td>4</td>\n",
       "      <td>392772</td>\n",
       "      <td>4096</td>\n",
       "    </tr>\n",
       "    <tr>\n",
       "      <th>3</th>\n",
       "      <td>Dallas Cowboys</td>\n",
       "      <td>Arlington, Texas</td>\n",
       "      <td>80000</td>\n",
       "      <td>1960</td>\n",
       "      <td>32.748000</td>\n",
       "      <td>-97.093000</td>\n",
       "      <td>90929</td>\n",
       "      <td>8</td>\n",
       "      <td>0.625</td>\n",
       "      <td>233.3</td>\n",
       "      <td>Football</td>\n",
       "      <td>AT&amp;T Stadium</td>\n",
       "      <td>1</td>\n",
       "      <td>1</td>\n",
       "      <td>3</td>\n",
       "      <td>4</td>\n",
       "      <td>392772</td>\n",
       "      <td>4096</td>\n",
       "    </tr>\n",
       "    <tr>\n",
       "      <th>4</th>\n",
       "      <td>Atlanta Braves</td>\n",
       "      <td>Atlanta, Georgia</td>\n",
       "      <td>41500</td>\n",
       "      <td>1871</td>\n",
       "      <td>33.890000</td>\n",
       "      <td>-84.467780</td>\n",
       "      <td>32776</td>\n",
       "      <td>81</td>\n",
       "      <td>0.556</td>\n",
       "      <td>359.1</td>\n",
       "      <td>Baseball</td>\n",
       "      <td>Truist Park</td>\n",
       "      <td>0</td>\n",
       "      <td>0</td>\n",
       "      <td>3</td>\n",
       "      <td>3</td>\n",
       "      <td>472522</td>\n",
       "      <td>3549</td>\n",
       "    </tr>\n",
       "    <tr>\n",
       "      <th>...</th>\n",
       "      <td>...</td>\n",
       "      <td>...</td>\n",
       "      <td>...</td>\n",
       "      <td>...</td>\n",
       "      <td>...</td>\n",
       "      <td>...</td>\n",
       "      <td>...</td>\n",
       "      <td>...</td>\n",
       "      <td>...</td>\n",
       "      <td>...</td>\n",
       "      <td>...</td>\n",
       "      <td>...</td>\n",
       "      <td>...</td>\n",
       "      <td>...</td>\n",
       "      <td>...</td>\n",
       "      <td>...</td>\n",
       "      <td>...</td>\n",
       "      <td>...</td>\n",
       "    </tr>\n",
       "    <tr>\n",
       "      <th>141</th>\n",
       "      <td>Washington Nationals</td>\n",
       "      <td>Washington, D.C.</td>\n",
       "      <td>41313</td>\n",
       "      <td>1969</td>\n",
       "      <td>38.872780</td>\n",
       "      <td>-77.007500</td>\n",
       "      <td>27898</td>\n",
       "      <td>81</td>\n",
       "      <td>0.506</td>\n",
       "      <td>35.1</td>\n",
       "      <td>Baseball</td>\n",
       "      <td>Nationals Park</td>\n",
       "      <td>1</td>\n",
       "      <td>4</td>\n",
       "      <td>4</td>\n",
       "      <td>6</td>\n",
       "      <td>681170</td>\n",
       "      <td>11158</td>\n",
       "    </tr>\n",
       "    <tr>\n",
       "      <th>142</th>\n",
       "      <td>Washington Wizards</td>\n",
       "      <td>Washington, D.C.</td>\n",
       "      <td>20356</td>\n",
       "      <td>1961</td>\n",
       "      <td>38.898056</td>\n",
       "      <td>-77.020833</td>\n",
       "      <td>17487</td>\n",
       "      <td>41</td>\n",
       "      <td>0.524</td>\n",
       "      <td>120.7</td>\n",
       "      <td>Basketball</td>\n",
       "      <td>Capital One Arena</td>\n",
       "      <td>1</td>\n",
       "      <td>4</td>\n",
       "      <td>4</td>\n",
       "      <td>6</td>\n",
       "      <td>681170</td>\n",
       "      <td>11158</td>\n",
       "    </tr>\n",
       "    <tr>\n",
       "      <th>143</th>\n",
       "      <td>Washington Capitals</td>\n",
       "      <td>Washington, D.C.</td>\n",
       "      <td>18506</td>\n",
       "      <td>1974</td>\n",
       "      <td>38.898184</td>\n",
       "      <td>-77.020938</td>\n",
       "      <td>18508</td>\n",
       "      <td>41</td>\n",
       "      <td>0.640</td>\n",
       "      <td>120.7</td>\n",
       "      <td>Hockey</td>\n",
       "      <td>Capital One Arena</td>\n",
       "      <td>1</td>\n",
       "      <td>4</td>\n",
       "      <td>4</td>\n",
       "      <td>6</td>\n",
       "      <td>681170</td>\n",
       "      <td>11158</td>\n",
       "    </tr>\n",
       "    <tr>\n",
       "      <th>144</th>\n",
       "      <td>D.C. United</td>\n",
       "      <td>Washington, D.C.</td>\n",
       "      <td>20000</td>\n",
       "      <td>1996</td>\n",
       "      <td>38.868215</td>\n",
       "      <td>-77.012789</td>\n",
       "      <td>17744</td>\n",
       "      <td>17</td>\n",
       "      <td>0.544</td>\n",
       "      <td>110.0</td>\n",
       "      <td>Soccer</td>\n",
       "      <td>Audi Field</td>\n",
       "      <td>1</td>\n",
       "      <td>4</td>\n",
       "      <td>4</td>\n",
       "      <td>6</td>\n",
       "      <td>681170</td>\n",
       "      <td>11158</td>\n",
       "    </tr>\n",
       "    <tr>\n",
       "      <th>145</th>\n",
       "      <td>Winnipeg Jets</td>\n",
       "      <td>Winnipeg, Manitoba</td>\n",
       "      <td>15321</td>\n",
       "      <td>1999</td>\n",
       "      <td>49.892574</td>\n",
       "      <td>-97.143722</td>\n",
       "      <td>15276</td>\n",
       "      <td>41</td>\n",
       "      <td>0.695</td>\n",
       "      <td>390.7</td>\n",
       "      <td>Hockey</td>\n",
       "      <td>Bell MTS Place</td>\n",
       "      <td>0</td>\n",
       "      <td>0</td>\n",
       "      <td>0</td>\n",
       "      <td>0</td>\n",
       "      <td>705224</td>\n",
       "      <td>3939</td>\n",
       "    </tr>\n",
       "  </tbody>\n",
       "</table>\n",
       "<p>146 rows × 18 columns</p>\n",
       "</div>"
      ],
      "text/plain": [
       "                     Team                 City Capacity Founded   Latitude  \\\n",
       "0      Los Angeles Angels  Anaheim, California    45957    1961  33.800280   \n",
       "1           Anaheim Ducks  Anaheim, California    17174    1993  33.807832   \n",
       "2           Texas Rangers     Arlington, Texas    48114    1961  32.751390   \n",
       "3          Dallas Cowboys     Arlington, Texas    80000    1960  32.748000   \n",
       "4          Atlanta Braves     Atlanta, Georgia    41500    1871  33.890000   \n",
       "..                    ...                  ...      ...     ...        ...   \n",
       "141  Washington Nationals     Washington, D.C.    41313    1969  38.872780   \n",
       "142    Washington Wizards     Washington, D.C.    20356    1961  38.898056   \n",
       "143   Washington Capitals     Washington, D.C.    18506    1974  38.898184   \n",
       "144           D.C. United     Washington, D.C.    20000    1996  38.868215   \n",
       "145         Winnipeg Jets   Winnipeg, Manitoba    15321    1999  49.892574   \n",
       "\n",
       "      Longitude AvgAttendance Games  2018winPCT  Dist_close_team_in_league  \\\n",
       "0   -117.882780         37321    81       0.494                       27.9   \n",
       "1   -117.876534         16814    41       0.616                       27.7   \n",
       "2    -97.082780         26333    81       0.414                      230.2   \n",
       "3    -97.093000         90929     8       0.625                      233.3   \n",
       "4    -84.467780         32776    81       0.556                      359.1   \n",
       "..          ...           ...   ...         ...                        ...   \n",
       "141  -77.007500         27898    81       0.506                       35.1   \n",
       "142  -77.020833         17487    41       0.524                      120.7   \n",
       "143  -77.020938         18508    41       0.640                      120.7   \n",
       "144  -77.012789         17744    17       0.544                      110.0   \n",
       "145  -97.143722         15276    41       0.695                      390.7   \n",
       "\n",
       "          Sport              Venue  Teams_within_1_mi  Teams_within_10_mi  \\\n",
       "0      Baseball      Angel Stadium                  1                   1   \n",
       "1        Hockey       Honda Center                  1                   1   \n",
       "2      Baseball   Globe Life Field                  1                   1   \n",
       "3      Football       AT&T Stadium                  1                   1   \n",
       "4      Baseball        Truist Park                  0                   0   \n",
       "..          ...                ...                ...                 ...   \n",
       "141    Baseball     Nationals Park                  1                   4   \n",
       "142  Basketball  Capital One Arena                  1                   4   \n",
       "143      Hockey  Capital One Arena                  1                   4   \n",
       "144      Soccer         Audi Field                  1                   4   \n",
       "145      Hockey     Bell MTS Place                  0                   0   \n",
       "\n",
       "     Teams_within_25_mi  Teams_within_50_mi  pop2016  pop_dens  \n",
       "0                     3                   9   351043      7043  \n",
       "1                     3                   9   351043      7043  \n",
       "2                     3                   4   392772      4096  \n",
       "3                     3                   4   392772      4096  \n",
       "4                     3                   3   472522      3549  \n",
       "..                  ...                 ...      ...       ...  \n",
       "141                   4                   6   681170     11158  \n",
       "142                   4                   6   681170     11158  \n",
       "143                   4                   6   681170     11158  \n",
       "144                   4                   6   681170     11158  \n",
       "145                   0                   0   705224      3939  \n",
       "\n",
       "[146 rows x 18 columns]"
      ]
     },
     "execution_count": 1565,
     "metadata": {},
     "output_type": "execute_result"
    }
   ],
   "source": [
    "leagues"
   ]
  },
  {
   "cell_type": "markdown",
   "metadata": {},
   "source": [
    "# Save as csv"
   ]
  },
  {
   "cell_type": "code",
   "execution_count": 1552,
   "metadata": {},
   "outputs": [],
   "source": [
    "leagues = leagues.reset_index(drop=True)"
   ]
  },
  {
   "cell_type": "code",
   "execution_count": 1566,
   "metadata": {},
   "outputs": [],
   "source": [
    "leagues.to_csv('leagues.csv')"
   ]
  },
  {
   "cell_type": "code",
   "execution_count": null,
   "metadata": {},
   "outputs": [],
   "source": []
  }
 ],
 "metadata": {
  "kernelspec": {
   "display_name": "Python [conda env:metis] *",
   "language": "python",
   "name": "conda-env-metis-py"
  },
  "language_info": {
   "codemirror_mode": {
    "name": "ipython",
    "version": 3
   },
   "file_extension": ".py",
   "mimetype": "text/x-python",
   "name": "python",
   "nbconvert_exporter": "python",
   "pygments_lexer": "ipython3",
   "version": "3.7.4"
  },
  "toc": {
   "base_numbering": 1,
   "nav_menu": {},
   "number_sections": true,
   "sideBar": true,
   "skip_h1_title": false,
   "title_cell": "Table of Contents",
   "title_sidebar": "Contents",
   "toc_cell": false,
   "toc_position": {},
   "toc_section_display": true,
   "toc_window_display": true
  }
 },
 "nbformat": 4,
 "nbformat_minor": 2
}
